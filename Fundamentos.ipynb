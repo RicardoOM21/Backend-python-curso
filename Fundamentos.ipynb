{
 "cells": [
  {
   "cell_type": "markdown",
   "id": "07e06cfc-6a2e-45c8-8011-192838abd6c1",
   "metadata": {},
   "source": [
    "#Python distingue entre mayusculas y minusculas"
   ]
  },
  {
   "cell_type": "code",
   "execution_count": 3,
   "id": "5263f1f3-752a-4d0e-9911-4b32a87dc977",
   "metadata": {},
   "outputs": [
    {
     "name": "stdout",
     "output_type": "stream",
     "text": [
      "El curso es:  Backend python\n"
     ]
    }
   ],
   "source": [
    "A = \"Backend python\"\n",
    "print(\"El curso es: \",A)"
   ]
  },
  {
   "cell_type": "code",
   "execution_count": 5,
   "id": "3701fe2e-4cd6-47c0-877c-38b0245fb9cf",
   "metadata": {},
   "outputs": [
    {
     "ename": "NameError",
     "evalue": "name 'a' is not defined",
     "output_type": "error",
     "traceback": [
      "\u001b[1;31m---------------------------------------------------------------------------\u001b[0m",
      "\u001b[1;31mNameError\u001b[0m                                 Traceback (most recent call last)",
      "Cell \u001b[1;32mIn[5], line 2\u001b[0m\n\u001b[0;32m      1\u001b[0m A \u001b[38;5;241m=\u001b[39m \u001b[38;5;124m\"\u001b[39m\u001b[38;5;124mBackend python\u001b[39m\u001b[38;5;124m\"\u001b[39m\n\u001b[1;32m----> 2\u001b[0m \u001b[38;5;28mprint\u001b[39m(\u001b[38;5;124m\"\u001b[39m\u001b[38;5;124mEl curso es: \u001b[39m\u001b[38;5;124m\"\u001b[39m,a)\n",
      "\u001b[1;31mNameError\u001b[0m: name 'a' is not defined"
     ]
    }
   ],
   "source": [
    "A = \"Backend python\"\n",
    "print(\"El curso es: \",a) #Marca error por utilizar \"a\" minuscula y no esta defininda"
   ]
  },
  {
   "cell_type": "code",
   "execution_count": 7,
   "id": "40fbe990-47ac-4c7f-8140-2b899168f6fc",
   "metadata": {
    "scrolled": true
   },
   "outputs": [
    {
     "name": "stdout",
     "output_type": "stream",
     "text": [
      "El curso es:  Backend python\n"
     ]
    }
   ],
   "source": [
    "a = \"Backend python\"\n",
    "print(\"El curso es: \",a)"
   ]
  },
  {
   "cell_type": "markdown",
   "id": "72562442-ba16-4f56-a2e4-e28fb4f25d5a",
   "metadata": {},
   "source": [
    "## Palabras Reservadas en python"
   ]
  },
  {
   "cell_type": "code",
   "execution_count": 9,
   "id": "bc907bb5-4c66-46f2-b0b6-e1c7ed75903c",
   "metadata": {},
   "outputs": [
    {
     "name": "stdout",
     "output_type": "stream",
     "text": [
      "\n",
      "Here is a list of the Python keywords.  Enter any keyword to get more help.\n",
      "\n",
      "False               class               from                or\n",
      "None                continue            global              pass\n",
      "True                def                 if                  raise\n",
      "and                 del                 import              return\n",
      "as                  elif                in                  try\n",
      "assert              else                is                  while\n",
      "async               except              lambda              with\n",
      "await               finally             nonlocal            yield\n",
      "break               for                 not                 \n",
      "\n"
     ]
    }
   ],
   "source": [
    "help(\"keywords\")"
   ]
  },
  {
   "cell_type": "markdown",
   "id": "0c07c5b2-201e-44e4-b1b3-3b21d86aa3a9",
   "metadata": {},
   "source": [
    "## Caracteres De Escape en Python"
   ]
  },
  {
   "cell_type": "code",
   "execution_count": 26,
   "id": "e5ce02d0-a772-4ed6-98ef-47cf464dea91",
   "metadata": {},
   "outputs": [
    {
     "data": {
      "text/plain": [
       "\"'\""
      ]
     },
     "execution_count": 26,
     "metadata": {},
     "output_type": "execute_result"
    }
   ],
   "source": [
    "\"\\'\" # Single Quote / Comilla Sencilla"
   ]
  },
  {
   "cell_type": "code",
   "execution_count": 28,
   "id": "7b8f60c9-43e7-48ae-915f-9adba3321ad1",
   "metadata": {},
   "outputs": [
    {
     "data": {
      "text/plain": [
       "\"'\""
      ]
     },
     "execution_count": 28,
     "metadata": {},
     "output_type": "execute_result"
    }
   ],
   "source": [
    "\"'\""
   ]
  },
  {
   "cell_type": "code",
   "execution_count": 30,
   "id": "f0a4857a-635e-42ff-9c36-ab7c0cd71598",
   "metadata": {},
   "outputs": [
    {
     "data": {
      "text/plain": [
       "\"'\""
      ]
     },
     "execution_count": 30,
     "metadata": {},
     "output_type": "execute_result"
    }
   ],
   "source": [
    "'\\''"
   ]
  },
  {
   "cell_type": "code",
   "execution_count": 32,
   "id": "f8870475-f4d3-4d6d-a923-3141ed8947fd",
   "metadata": {},
   "outputs": [
    {
     "data": {
      "text/plain": [
       "'\"'"
      ]
     },
     "execution_count": 32,
     "metadata": {},
     "output_type": "execute_result"
    }
   ],
   "source": [
    "\"\\\"\" # Double Quote / Comilla Doble"
   ]
  },
  {
   "cell_type": "code",
   "execution_count": 34,
   "id": "bee3a1d6-1226-4e0f-95dc-5025b58f92c0",
   "metadata": {},
   "outputs": [
    {
     "data": {
      "text/plain": [
       "'\\n'"
      ]
     },
     "execution_count": 34,
     "metadata": {},
     "output_type": "execute_result"
    }
   ],
   "source": [
    "\"\\n\" # New Line / Salto de Linea"
   ]
  },
  {
   "cell_type": "code",
   "execution_count": 36,
   "id": "4e54a44e-2224-4ecd-bffa-257914a06926",
   "metadata": {},
   "outputs": [
    {
     "name": "stdout",
     "output_type": "stream",
     "text": [
      "Backend Python\n"
     ]
    }
   ],
   "source": [
    "mycourse = \"Backend Python\" \n",
    "print(mycourse)"
   ]
  },
  {
   "cell_type": "code",
   "execution_count": 38,
   "id": "eae29116-56e8-478b-b33c-99b9fc14a687",
   "metadata": {},
   "outputs": [
    {
     "name": "stdout",
     "output_type": "stream",
     "text": [
      "Backend Python \n",
      " De \n",
      " Ebac\n"
     ]
    }
   ],
   "source": [
    "mycourse = \"Backend Python \\n De \\n Ebac\" \n",
    "print(mycourse)"
   ]
  },
  {
   "cell_type": "code",
   "execution_count": 40,
   "id": "1ca6ca95-8b46-43ff-812f-846860f01441",
   "metadata": {},
   "outputs": [
    {
     "data": {
      "text/plain": [
       "'\\t'"
      ]
     },
     "execution_count": 40,
     "metadata": {},
     "output_type": "execute_result"
    }
   ],
   "source": [
    "\"\\t\" # Tab"
   ]
  },
  {
   "cell_type": "code",
   "execution_count": 42,
   "id": "61f407a4-f1cc-4900-bae7-c04eeaa330ba",
   "metadata": {},
   "outputs": [
    {
     "name": "stdout",
     "output_type": "stream",
     "text": [
      "Backend Python \t De \t Ebac\n"
     ]
    }
   ],
   "source": [
    "mycourse = \"Backend Python \\t De \\t Ebac\" \n",
    "print(mycourse)"
   ]
  },
  {
   "cell_type": "code",
   "execution_count": 44,
   "id": "6ffe2074-3157-40cb-b72b-1e0265e84ddc",
   "metadata": {},
   "outputs": [
    {
     "data": {
      "text/plain": [
       "'\\r'"
      ]
     },
     "execution_count": 44,
     "metadata": {},
     "output_type": "execute_result"
    }
   ],
   "source": [
    "\"\\r\" # Carriage Return / Retorno de Carro"
   ]
  },
  {
   "cell_type": "code",
   "execution_count": 48,
   "id": "4750ef78-94cf-47bb-b47a-29c60e26282a",
   "metadata": {},
   "outputs": [
    {
     "name": "stdout",
     "output_type": "stream",
     "text": [
      " De EbacPython\n"
     ]
    }
   ],
   "source": [
    "mycourse = \"Backend Python\\r De Ebac\" \n",
    "print(mycourse)"
   ]
  },
  {
   "cell_type": "code",
   "execution_count": 50,
   "id": "830593b9-5f98-4eba-8cb9-5b690750db09",
   "metadata": {},
   "outputs": [
    {
     "data": {
      "text/plain": [
       "'\\x08'"
      ]
     },
     "execution_count": 50,
     "metadata": {},
     "output_type": "execute_result"
    }
   ],
   "source": [
    "\"\\b\" # Backspace / Retorno"
   ]
  },
  {
   "cell_type": "code",
   "execution_count": 52,
   "id": "ecdb6445-7f6a-4d5b-b1b2-e85f15ecb69f",
   "metadata": {},
   "outputs": [
    {
     "name": "stdout",
     "output_type": "stream",
     "text": [
      "Backend Python De Ebac\n"
     ]
    }
   ],
   "source": [
    "mycourse = \"Backend Python De Ebac\" \n",
    "print(mycourse)"
   ]
  },
  {
   "cell_type": "code",
   "execution_count": 58,
   "id": "88354709-128e-45d3-8feb-5cf158a77706",
   "metadata": {},
   "outputs": [
    {
     "name": "stdout",
     "output_type": "stream",
     "text": [
      "Backend Python D Ebac\n"
     ]
    }
   ],
   "source": [
    "mycourse = \"Backend Python De\\b Ebac\"\n",
    "# ELimina el caracter anterior en este caso la \"e\"\n",
    "print(mycourse)"
   ]
  },
  {
   "cell_type": "code",
   "execution_count": 62,
   "id": "2b271548-c82e-44c6-b506-db3a65c4653f",
   "metadata": {},
   "outputs": [
    {
     "data": {
      "text/plain": [
       "'\\x00'"
      ]
     },
     "execution_count": 62,
     "metadata": {},
     "output_type": "execute_result"
    }
   ],
   "source": [
    "\"\\000\" # Octal "
   ]
  },
  {
   "cell_type": "code",
   "execution_count": 66,
   "id": "8da8bfe5-83c7-4ddb-bde3-4de96f814a55",
   "metadata": {},
   "outputs": [
    {
     "name": "stdout",
     "output_type": "stream",
     "text": [
      "Hola\n"
     ]
    }
   ],
   "source": [
    "hola_Octal = \"\\110\\157\\154\\141\"\n",
    "print(hola_Octal)"
   ]
  },
  {
   "cell_type": "code",
   "execution_count": 74,
   "id": "5f095f64-3990-47a4-af4d-340874adb30a",
   "metadata": {},
   "outputs": [],
   "source": [
    "#\"\\xhh\" # Hexadesimal, va la \"X\" y luego letras o numeros"
   ]
  },
  {
   "cell_type": "code",
   "execution_count": 72,
   "id": "3e12e84f-b890-493a-9d53-7deefe620c71",
   "metadata": {},
   "outputs": [
    {
     "name": "stdout",
     "output_type": "stream",
     "text": [
      "Hola\n"
     ]
    }
   ],
   "source": [
    "hola_Hexa = \"\\x48\\x6f\\x6c\\x61\"\n",
    "print(hola_Hexa)"
   ]
  },
  {
   "cell_type": "markdown",
   "id": "0a9fbfed-ce2d-4fbc-8a05-1891f21248de",
   "metadata": {},
   "source": [
    "# Función eval()"
   ]
  },
  {
   "cell_type": "code",
   "execution_count": 77,
   "id": "4c12f68f-0c62-4b92-84c3-cf71b18383bf",
   "metadata": {},
   "outputs": [
    {
     "name": "stdout",
     "output_type": "stream",
     "text": [
      "number+1000\n"
     ]
    }
   ],
   "source": [
    "number = 22\n",
    "print(\"number+1000\")"
   ]
  },
  {
   "cell_type": "code",
   "execution_count": 79,
   "id": "48f9d750-e88e-44c7-991c-2cee7dc5ab87",
   "metadata": {},
   "outputs": [
    {
     "name": "stdout",
     "output_type": "stream",
     "text": [
      "1022\n"
     ]
    }
   ],
   "source": [
    "number = 22\n",
    "print(eval(\"number+1000\"))"
   ]
  },
  {
   "cell_type": "code",
   "execution_count": 113,
   "id": "de66baa9-3e74-4cef-8ea5-1a83cbec345f",
   "metadata": {},
   "outputs": [
    {
     "ename": "TypeError",
     "evalue": "'str' object is not callable",
     "output_type": "error",
     "traceback": [
      "\u001b[1;31m---------------------------------------------------------------------------\u001b[0m",
      "\u001b[1;31mTypeError\u001b[0m                                 Traceback (most recent call last)",
      "Cell \u001b[1;32mIn[113], line 1\u001b[0m\n\u001b[1;32m----> 1\u001b[0m \u001b[38;5;28minput\u001b[39m \u001b[38;5;241m=\u001b[39m \u001b[38;5;28minput\u001b[39m(\u001b[38;5;124m\"\u001b[39m\u001b[38;5;124mIngresa un numero: \u001b[39m\u001b[38;5;124m\"\u001b[39m)\n",
      "\u001b[1;31mTypeError\u001b[0m: 'str' object is not callable"
     ]
    }
   ],
   "source": [
    "input = input(\"Ingresa un numero: \")"
   ]
  },
  {
   "cell_type": "code",
   "execution_count": 119,
   "id": "2d41fcf1-15a7-4ed4-87e9-acf23457008c",
   "metadata": {},
   "outputs": [
    {
     "data": {
      "text/plain": [
       "'3'"
      ]
     },
     "execution_count": 119,
     "metadata": {},
     "output_type": "execute_result"
    }
   ],
   "source": [
    "input"
   ]
  },
  {
   "cell_type": "code",
   "execution_count": 121,
   "id": "37bee31c-bb3e-46e1-a7eb-ed193e3b3969",
   "metadata": {},
   "outputs": [
    {
     "data": {
      "text/plain": [
       "3"
      ]
     },
     "execution_count": 121,
     "metadata": {},
     "output_type": "execute_result"
    }
   ],
   "source": [
    "eval(input)"
   ]
  },
  {
   "cell_type": "code",
   "execution_count": 139,
   "id": "b94940c8-a527-4b93-8754-26ae589d454f",
   "metadata": {},
   "outputs": [
    {
     "ename": "TypeError",
     "evalue": "'str' object is not callable",
     "output_type": "error",
     "traceback": [
      "\u001b[1;31m---------------------------------------------------------------------------\u001b[0m",
      "\u001b[1;31mTypeError\u001b[0m                                 Traceback (most recent call last)",
      "Cell \u001b[1;32mIn[139], line 1\u001b[0m\n\u001b[1;32m----> 1\u001b[0m myinput \u001b[38;5;241m=\u001b[39m \u001b[38;5;28minput\u001b[39m(\u001b[38;5;124m\"\u001b[39m\u001b[38;5;124mIngresa un numero: \u001b[39m\u001b[38;5;124m\"\u001b[39m)\n",
      "\u001b[1;31mTypeError\u001b[0m: 'str' object is not callable"
     ]
    }
   ],
   "source": [
    "myinput = input(\"Ingresa un numero: \")\n",
    "#print(myinput)\n",
    "#print(type(myinput))\n",
    "# Cadena / String"
   ]
  },
  {
   "cell_type": "code",
   "execution_count": 155,
   "id": "3e0e8d56-51c1-4dc2-a898-7f03d50c3ee7",
   "metadata": {},
   "outputs": [
    {
     "ename": "TypeError",
     "evalue": "'str' object is not callable",
     "output_type": "error",
     "traceback": [
      "\u001b[1;31m---------------------------------------------------------------------------\u001b[0m",
      "\u001b[1;31mTypeError\u001b[0m                                 Traceback (most recent call last)",
      "Cell \u001b[1;32mIn[155], line 1\u001b[0m\n\u001b[1;32m----> 1\u001b[0m myinput \u001b[38;5;241m=\u001b[39m \u001b[38;5;28meval\u001b[39m(\u001b[38;5;28minput\u001b[39m(\u001b[38;5;124m\"\u001b[39m\u001b[38;5;124mIngresa un numero: \u001b[39m\u001b[38;5;124m\"\u001b[39m))\n",
      "\u001b[1;31mTypeError\u001b[0m: 'str' object is not callable"
     ]
    }
   ],
   "source": [
    "myinput = eval(input(\"Ingresa un numero: \"))\n",
    "#print(myinput)\n",
    "#print(type(myinput))\n",
    "# Entero / INT"
   ]
  },
  {
   "cell_type": "markdown",
   "id": "333c1ad1-9c27-44fd-9e95-5b3e9d8f0d83",
   "metadata": {},
   "source": [
    "# Funcion range() y xrange()"
   ]
  },
  {
   "cell_type": "markdown",
   "id": "f9e22ff4-4f6a-40db-ac88-cdd5238ac3e1",
   "metadata": {},
   "source": [
    "#### range(start, stop, step)"
   ]
  },
  {
   "cell_type": "code",
   "execution_count": 147,
   "id": "3c13af24-7af1-4879-8bea-43ebcd63c2f6",
   "metadata": {},
   "outputs": [],
   "source": [
    "x = range(10)"
   ]
  },
  {
   "cell_type": "code",
   "execution_count": 149,
   "id": "e290d400-14bc-435b-baff-cc26471886ec",
   "metadata": {},
   "outputs": [
    {
     "data": {
      "text/plain": [
       "range(0, 10)"
      ]
     },
     "execution_count": 149,
     "metadata": {},
     "output_type": "execute_result"
    }
   ],
   "source": [
    "x"
   ]
  },
  {
   "cell_type": "code",
   "execution_count": 153,
   "id": "53afcf75-c9a9-4794-a8c0-3b9203b32104",
   "metadata": {},
   "outputs": [
    {
     "name": "stdout",
     "output_type": "stream",
     "text": [
      "0\n",
      "1\n",
      "2\n",
      "3\n",
      "4\n",
      "5\n",
      "6\n",
      "7\n",
      "8\n",
      "9\n"
     ]
    }
   ],
   "source": [
    "for number in x:\n",
    "    print(number)"
   ]
  },
  {
   "cell_type": "code",
   "execution_count": 161,
   "id": "f08d79c1-696e-45ad-9226-fc4992f9b3a3",
   "metadata": {},
   "outputs": [
    {
     "name": "stdout",
     "output_type": "stream",
     "text": [
      "3\n",
      "4\n",
      "5\n"
     ]
    }
   ],
   "source": [
    "x = range(3,6)\n",
    "for number in x:\n",
    "    print(number)"
   ]
  },
  {
   "cell_type": "code",
   "execution_count": 169,
   "id": "06bbc2cf-75ff-48ef-a760-ad5fb210f768",
   "metadata": {},
   "outputs": [
    {
     "name": "stdout",
     "output_type": "stream",
     "text": [
      "3\n",
      "5\n",
      "7\n",
      "9\n",
      "11\n",
      "13\n",
      "15\n",
      "17\n",
      "19\n"
     ]
    }
   ],
   "source": [
    "x = range(3,20,2)\n",
    "for number in x:\n",
    "    print(number)"
   ]
  },
  {
   "cell_type": "markdown",
   "id": "38ab41f7-9ae1-4310-a2f6-c1c833065643",
   "metadata": {},
   "source": [
    "## Mutabilidad e Inmutabilidad"
   ]
  },
  {
   "cell_type": "code",
   "execution_count": 172,
   "id": "036ff473-68bf-4c6f-9e65-b49bde666d6a",
   "metadata": {},
   "outputs": [],
   "source": [
    "tuplel = (1,2,3,4,5)"
   ]
  },
  {
   "cell_type": "code",
   "execution_count": 174,
   "id": "ec880b5d-799d-45b0-97ab-1cc19919a517",
   "metadata": {},
   "outputs": [
    {
     "data": {
      "text/plain": [
       "(1, 2, 3, 4, 5)"
      ]
     },
     "execution_count": 174,
     "metadata": {},
     "output_type": "execute_result"
    }
   ],
   "source": [
    "tuplel"
   ]
  },
  {
   "cell_type": "code",
   "execution_count": 184,
   "id": "8a587045-3f3e-417f-8fcf-3959739c3223",
   "metadata": {},
   "outputs": [
    {
     "ename": "TypeError",
     "evalue": "'tuple' object does not support item assignment",
     "output_type": "error",
     "traceback": [
      "\u001b[1;31m---------------------------------------------------------------------------\u001b[0m",
      "\u001b[1;31mTypeError\u001b[0m                                 Traceback (most recent call last)",
      "Cell \u001b[1;32mIn[184], line 2\u001b[0m\n\u001b[0;32m      1\u001b[0m \u001b[38;5;66;03m# Inmutabilidad\u001b[39;00m\n\u001b[1;32m----> 2\u001b[0m tuplel[\u001b[38;5;241m0\u001b[39m] \u001b[38;5;241m=\u001b[39m \u001b[38;5;241m10\u001b[39m\n",
      "\u001b[1;31mTypeError\u001b[0m: 'tuple' object does not support item assignment"
     ]
    }
   ],
   "source": [
    "# Inmutabilidad\n",
    "tuplel[0] = 10"
   ]
  },
  {
   "cell_type": "code",
   "execution_count": 186,
   "id": "36d9191c-4f49-45e7-b751-74e96aa66542",
   "metadata": {},
   "outputs": [],
   "source": [
    "string = \"Aprendiendo sobre inmutabilidad\""
   ]
  },
  {
   "cell_type": "code",
   "execution_count": 188,
   "id": "7bb5cc2f-5a7d-468f-8fa8-c2eb5d6cb818",
   "metadata": {},
   "outputs": [
    {
     "data": {
      "text/plain": [
       "'Aprendiendo sobre inmutabilidad'"
      ]
     },
     "execution_count": 188,
     "metadata": {},
     "output_type": "execute_result"
    }
   ],
   "source": [
    "string"
   ]
  },
  {
   "cell_type": "code",
   "execution_count": 190,
   "id": "5a9aeaa1-8f8f-43a7-87d2-489a17f0211b",
   "metadata": {},
   "outputs": [
    {
     "ename": "TypeError",
     "evalue": "'str' object does not support item assignment",
     "output_type": "error",
     "traceback": [
      "\u001b[1;31m---------------------------------------------------------------------------\u001b[0m",
      "\u001b[1;31mTypeError\u001b[0m                                 Traceback (most recent call last)",
      "Cell \u001b[1;32mIn[190], line 1\u001b[0m\n\u001b[1;32m----> 1\u001b[0m string[\u001b[38;5;241m0\u001b[39m] \u001b[38;5;241m=\u001b[39m \u001b[38;5;124m\"\u001b[39m\u001b[38;5;124ma\u001b[39m\u001b[38;5;124m\"\u001b[39m\n",
      "\u001b[1;31mTypeError\u001b[0m: 'str' object does not support item assignment"
     ]
    }
   ],
   "source": [
    "string[0] = \"a\""
   ]
  },
  {
   "cell_type": "code",
   "execution_count": 192,
   "id": "689f9cbc-f751-4520-8998-31b156d87af2",
   "metadata": {},
   "outputs": [],
   "source": [
    "colors = [\"rojo\",\"azul\",\"verde\",\"negro\"]"
   ]
  },
  {
   "cell_type": "code",
   "execution_count": 194,
   "id": "38e238ef-834d-4795-8eca-e58df5154c9a",
   "metadata": {},
   "outputs": [
    {
     "data": {
      "text/plain": [
       "['rojo', 'azul', 'verde', 'negro']"
      ]
     },
     "execution_count": 194,
     "metadata": {},
     "output_type": "execute_result"
    }
   ],
   "source": [
    "colors"
   ]
  },
  {
   "cell_type": "code",
   "execution_count": 196,
   "id": "bf91bec0-1a64-4e1f-986a-95665570ce26",
   "metadata": {},
   "outputs": [],
   "source": [
    "colors[0] = \"blanco\""
   ]
  },
  {
   "cell_type": "code",
   "execution_count": 199,
   "id": "1550b5ef-a19c-4d03-afde-b6f5e10e565a",
   "metadata": {},
   "outputs": [
    {
     "data": {
      "text/plain": [
       "['blanco', 'azul', 'verde', 'negro']"
      ]
     },
     "execution_count": 199,
     "metadata": {},
     "output_type": "execute_result"
    }
   ],
   "source": [
    "colors"
   ]
  },
  {
   "cell_type": "markdown",
   "id": "49273ee1-b1ce-402d-9c68-1dd957753a06",
   "metadata": {},
   "source": [
    "## Funcion Print()"
   ]
  },
  {
   "cell_type": "code",
   "execution_count": 202,
   "id": "b11da886-c5bb-4f83-ba5c-344b9268b984",
   "metadata": {},
   "outputs": [],
   "source": [
    "# Mostrar un resultado"
   ]
  },
  {
   "cell_type": "code",
   "execution_count": 204,
   "id": "cdd86bd5-58ad-4a88-ac0b-f2cf40cf955b",
   "metadata": {},
   "outputs": [
    {
     "name": "stdout",
     "output_type": "stream",
     "text": [
      "El valor de variable es:  567\n"
     ]
    }
   ],
   "source": [
    "variable = 567\n",
    "print(\"El valor de variable es: \",variable)"
   ]
  },
  {
   "cell_type": "code",
   "execution_count": 208,
   "id": "707e6485-963c-45be-b899-317b02ea636a",
   "metadata": {},
   "outputs": [
    {
     "name": "stdout",
     "output_type": "stream",
     "text": [
      "El valor de la suma es:  800\n"
     ]
    }
   ],
   "source": [
    "a=100\n",
    "b=500\n",
    "c=200\n",
    "d=a+b+c\n",
    "print(\"El valor de la suma es: \",d)"
   ]
  },
  {
   "cell_type": "code",
   "execution_count": 210,
   "id": "1ba0c8a8-bd7f-4735-8bc3-f0d275042f6c",
   "metadata": {},
   "outputs": [],
   "source": [
    "import builtins"
   ]
  },
  {
   "cell_type": "code",
   "execution_count": 212,
   "id": "f0f9cb3b-24ca-4694-b999-1783d0ffd366",
   "metadata": {},
   "outputs": [
    {
     "name": "stdout",
     "output_type": "stream",
     "text": [
      "Help on built-in function print in module builtins:\n",
      "\n",
      "print(*args, sep=' ', end='\\n', file=None, flush=False)\n",
      "    Prints the values to a stream, or to sys.stdout by default.\n",
      "\n",
      "    sep\n",
      "      string inserted between values, default a space.\n",
      "    end\n",
      "      string appended after the last value, default a newline.\n",
      "    file\n",
      "      a file-like object (stream); defaults to the current sys.stdout.\n",
      "    flush\n",
      "      whether to forcibly flush the stream.\n",
      "\n"
     ]
    }
   ],
   "source": [
    "help(builtins.print)"
   ]
  },
  {
   "cell_type": "code",
   "execution_count": 214,
   "id": "8e4aff4c-5c1d-44ec-8e3f-6d18732488f9",
   "metadata": {},
   "outputs": [
    {
     "data": {
      "text/plain": [
       "['ArithmeticError',\n",
       " 'AssertionError',\n",
       " 'AttributeError',\n",
       " 'BaseException',\n",
       " 'BaseExceptionGroup',\n",
       " 'BlockingIOError',\n",
       " 'BrokenPipeError',\n",
       " 'BufferError',\n",
       " 'BytesWarning',\n",
       " 'ChildProcessError',\n",
       " 'ConnectionAbortedError',\n",
       " 'ConnectionError',\n",
       " 'ConnectionRefusedError',\n",
       " 'ConnectionResetError',\n",
       " 'DeprecationWarning',\n",
       " 'EOFError',\n",
       " 'Ellipsis',\n",
       " 'EncodingWarning',\n",
       " 'EnvironmentError',\n",
       " 'Exception',\n",
       " 'ExceptionGroup',\n",
       " 'False',\n",
       " 'FileExistsError',\n",
       " 'FileNotFoundError',\n",
       " 'FloatingPointError',\n",
       " 'FutureWarning',\n",
       " 'GeneratorExit',\n",
       " 'IOError',\n",
       " 'ImportError',\n",
       " 'ImportWarning',\n",
       " 'IndentationError',\n",
       " 'IndexError',\n",
       " 'InterruptedError',\n",
       " 'IsADirectoryError',\n",
       " 'KeyError',\n",
       " 'KeyboardInterrupt',\n",
       " 'LookupError',\n",
       " 'MemoryError',\n",
       " 'ModuleNotFoundError',\n",
       " 'NameError',\n",
       " 'None',\n",
       " 'NotADirectoryError',\n",
       " 'NotImplemented',\n",
       " 'NotImplementedError',\n",
       " 'OSError',\n",
       " 'OverflowError',\n",
       " 'PendingDeprecationWarning',\n",
       " 'PermissionError',\n",
       " 'ProcessLookupError',\n",
       " 'RecursionError',\n",
       " 'ReferenceError',\n",
       " 'ResourceWarning',\n",
       " 'RuntimeError',\n",
       " 'RuntimeWarning',\n",
       " 'StopAsyncIteration',\n",
       " 'StopIteration',\n",
       " 'SyntaxError',\n",
       " 'SyntaxWarning',\n",
       " 'SystemError',\n",
       " 'SystemExit',\n",
       " 'TabError',\n",
       " 'TimeoutError',\n",
       " 'True',\n",
       " 'TypeError',\n",
       " 'UnboundLocalError',\n",
       " 'UnicodeDecodeError',\n",
       " 'UnicodeEncodeError',\n",
       " 'UnicodeError',\n",
       " 'UnicodeTranslateError',\n",
       " 'UnicodeWarning',\n",
       " 'UserWarning',\n",
       " 'ValueError',\n",
       " 'Warning',\n",
       " 'WindowsError',\n",
       " 'ZeroDivisionError',\n",
       " '__IPYTHON__',\n",
       " '__build_class__',\n",
       " '__debug__',\n",
       " '__doc__',\n",
       " '__import__',\n",
       " '__loader__',\n",
       " '__name__',\n",
       " '__package__',\n",
       " '__spec__',\n",
       " 'abs',\n",
       " 'aiter',\n",
       " 'all',\n",
       " 'anext',\n",
       " 'any',\n",
       " 'ascii',\n",
       " 'bin',\n",
       " 'bool',\n",
       " 'breakpoint',\n",
       " 'bytearray',\n",
       " 'bytes',\n",
       " 'callable',\n",
       " 'chr',\n",
       " 'classmethod',\n",
       " 'compile',\n",
       " 'complex',\n",
       " 'copyright',\n",
       " 'credits',\n",
       " 'delattr',\n",
       " 'dict',\n",
       " 'dir',\n",
       " 'display',\n",
       " 'divmod',\n",
       " 'enumerate',\n",
       " 'eval',\n",
       " 'exec',\n",
       " 'execfile',\n",
       " 'filter',\n",
       " 'float',\n",
       " 'format',\n",
       " 'frozenset',\n",
       " 'get_ipython',\n",
       " 'getattr',\n",
       " 'globals',\n",
       " 'hasattr',\n",
       " 'hash',\n",
       " 'help',\n",
       " 'hex',\n",
       " 'id',\n",
       " 'input',\n",
       " 'int',\n",
       " 'isinstance',\n",
       " 'issubclass',\n",
       " 'iter',\n",
       " 'len',\n",
       " 'license',\n",
       " 'list',\n",
       " 'locals',\n",
       " 'map',\n",
       " 'max',\n",
       " 'memoryview',\n",
       " 'min',\n",
       " 'next',\n",
       " 'object',\n",
       " 'oct',\n",
       " 'open',\n",
       " 'ord',\n",
       " 'pow',\n",
       " 'print',\n",
       " 'property',\n",
       " 'range',\n",
       " 'repr',\n",
       " 'reversed',\n",
       " 'round',\n",
       " 'runfile',\n",
       " 'set',\n",
       " 'setattr',\n",
       " 'slice',\n",
       " 'sorted',\n",
       " 'staticmethod',\n",
       " 'str',\n",
       " 'sum',\n",
       " 'super',\n",
       " 'tuple',\n",
       " 'type',\n",
       " 'vars',\n",
       " 'zip']"
      ]
     },
     "execution_count": 214,
     "metadata": {},
     "output_type": "execute_result"
    }
   ],
   "source": [
    "dir(builtins)"
   ]
  },
  {
   "cell_type": "markdown",
   "id": "20b709f2-8786-4230-90ec-2bf58493b691",
   "metadata": {},
   "source": [
    "# Funcion type()"
   ]
  },
  {
   "cell_type": "code",
   "execution_count": 217,
   "id": "61dd198f-16b7-4c55-853e-67bd40d91ec3",
   "metadata": {},
   "outputs": [
    {
     "name": "stdout",
     "output_type": "stream",
     "text": [
      "570\n"
     ]
    }
   ],
   "source": [
    "number = 570\n",
    "print(number)"
   ]
  },
  {
   "cell_type": "code",
   "execution_count": 219,
   "id": "ae92cd15-4b5b-461d-aeb0-e6dd369fa249",
   "metadata": {},
   "outputs": [
    {
     "name": "stdout",
     "output_type": "stream",
     "text": [
      "570\n",
      "<class 'int'>\n"
     ]
    }
   ],
   "source": [
    "# Entero / INT\n",
    "number = 570\n",
    "print(number)\n",
    "print(type(number))"
   ]
  },
  {
   "cell_type": "code",
   "execution_count": 221,
   "id": "d02c3720-f5d4-4518-9e76-b024b2fb8d03",
   "metadata": {},
   "outputs": [
    {
     "name": "stdout",
     "output_type": "stream",
     "text": [
      "backend python\n",
      "<class 'str'>\n"
     ]
    }
   ],
   "source": [
    "# Cadena / String\n",
    "string = \"backend python\"\n",
    "print(string)\n",
    "print(type(string))"
   ]
  },
  {
   "cell_type": "code",
   "execution_count": 223,
   "id": "5d97670d-8b89-4823-a66e-67347953eeca",
   "metadata": {},
   "outputs": [
    {
     "name": "stdout",
     "output_type": "stream",
     "text": [
      "3.16\n",
      "<class 'float'>\n"
     ]
    }
   ],
   "source": [
    "# Flotantes / Float\n",
    "float = 3.16\n",
    "print(float)\n",
    "print(type(float))"
   ]
  },
  {
   "cell_type": "code",
   "execution_count": 225,
   "id": "8989c749-a9e6-48e0-b8dd-880b860b90f5",
   "metadata": {},
   "outputs": [
    {
     "name": "stdout",
     "output_type": "stream",
     "text": [
      "\n",
      "<class 'str'>\n"
     ]
    }
   ],
   "source": [
    "# Cadena / String\n",
    "string = \"\"\n",
    "print(string)\n",
    "print(type(string))"
   ]
  },
  {
   "cell_type": "code",
   "execution_count": 227,
   "id": "6d66532c-5c0f-4ef5-8fbe-ceaa1bfe9cc9",
   "metadata": {},
   "outputs": [
    {
     "name": "stdout",
     "output_type": "stream",
     "text": [
      "True\n",
      "<class 'bool'>\n"
     ]
    }
   ],
   "source": [
    "# Booleanos / Boolean\n",
    "boolean = True\n",
    "print(boolean)\n",
    "print(type(boolean))"
   ]
  },
  {
   "cell_type": "code",
   "execution_count": 231,
   "id": "143c70db-1b29-487c-abae-fd03a2577853",
   "metadata": {},
   "outputs": [
    {
     "name": "stdout",
     "output_type": "stream",
     "text": [
      "[1, 2, 3, 4]\n",
      "<class 'list'>\n"
     ]
    }
   ],
   "source": [
    "# Listas / List\n",
    "list = [1,2,3,4,]\n",
    "print(list)\n",
    "print(type(list))"
   ]
  },
  {
   "cell_type": "code",
   "execution_count": 233,
   "id": "6ca53b6b-6832-40c2-be3f-988c84d0efee",
   "metadata": {},
   "outputs": [
    {
     "name": "stdout",
     "output_type": "stream",
     "text": [
      "(1, 2, 3, 4)\n",
      "<class 'tuple'>\n"
     ]
    }
   ],
   "source": [
    "# Tuplas / tuple\n",
    "tuple = (1,2,3,4)\n",
    "print(tuple)\n",
    "print(type(tuple))"
   ]
  },
  {
   "cell_type": "code",
   "execution_count": 235,
   "id": "264f733f-526c-460e-b069-c2d981958dbd",
   "metadata": {},
   "outputs": [
    {
     "name": "stdout",
     "output_type": "stream",
     "text": [
      "{'hola amigo', 2, 3.4, 4}\n",
      "<class 'set'>\n"
     ]
    }
   ],
   "source": [
    "# Set\n",
    "set = {4,2,\"hola amigo\",3.4}\n",
    "print(set)\n",
    "print(type(set))"
   ]
  },
  {
   "cell_type": "code",
   "execution_count": 239,
   "id": "e52a11ee-5daf-49b7-9ddf-d4391049db33",
   "metadata": {},
   "outputs": [
    {
     "name": "stdout",
     "output_type": "stream",
     "text": [
      "{'a': 20, 'b': 50, 'c': 35}\n",
      "<class 'dict'>\n"
     ]
    }
   ],
   "source": [
    "# Diccionarios / dict\n",
    "dict = {\"a\":20, \"b\":50, \"c\":35}\n",
    "print(dict)\n",
    "print(type(dict))"
   ]
  },
  {
   "cell_type": "markdown",
   "id": "8bd73770-2b4f-4642-9dc5-01f062ce953d",
   "metadata": {},
   "source": [
    "# Funcion id()"
   ]
  },
  {
   "cell_type": "markdown",
   "id": "c3cf6962-0566-41cb-8c0f-47f7e4caa4c7",
   "metadata": {},
   "source": [
    "### id() funcion para obtener la direccion de memoria"
   ]
  },
  {
   "cell_type": "code",
   "execution_count": 244,
   "id": "7f0baaaf-45ca-4190-9a01-99b0427c4a3c",
   "metadata": {},
   "outputs": [
    {
     "name": "stdout",
     "output_type": "stream",
     "text": [
      "python\n",
      "<class 'str'>\n",
      "2250061888704\n"
     ]
    }
   ],
   "source": [
    "# Cadena / String\n",
    "string = \"python\"\n",
    "print(string)\n",
    "print(type(string))\n",
    "print(id(string))"
   ]
  },
  {
   "cell_type": "code",
   "execution_count": 248,
   "id": "9c12750a-a0d6-4a56-a5e6-e2c000b8abce",
   "metadata": {},
   "outputs": [
    {
     "name": "stdout",
     "output_type": "stream",
     "text": [
      "backend\n",
      "<class 'str'>\n",
      "2250066813088\n"
     ]
    }
   ],
   "source": [
    "# Cadena / String\n",
    "string2 = \"backend\"\n",
    "print(string2)\n",
    "print(type(string2))\n",
    "print(id(string2))"
   ]
  },
  {
   "cell_type": "code",
   "execution_count": 254,
   "id": "ef550314-6040-41bb-813b-b39126796d45",
   "metadata": {},
   "outputs": [
    {
     "name": "stdout",
     "output_type": "stream",
     "text": [
      "backend\n",
      "backend\n",
      "<class 'str'>\n",
      "<class 'str'>\n",
      "2250066813088\n",
      "2250066813088\n"
     ]
    }
   ],
   "source": [
    "# Cadena / String\n",
    "string2 = \"backend\"\n",
    "string3 = \"backend\"\n",
    "print(string2)\n",
    "print(string3)    \n",
    "# la direccion de memoria sera la misma aun que las variables sean diferentes, tiene que ser valor diferente para que cambie la direccion de memoria\n",
    "print(type(string2))\n",
    "print(type(string3))\n",
    "print(id(string2))\n",
    "print(id(string3))"
   ]
  },
  {
   "cell_type": "code",
   "execution_count": 252,
   "id": "27f7e69b-03a6-4fe4-84b5-9b13c7832d04",
   "metadata": {},
   "outputs": [
    {
     "name": "stdout",
     "output_type": "stream",
     "text": [
      "backend\n",
      "Ebac\n",
      "<class 'str'>\n",
      "<class 'str'>\n",
      "2250066813088\n",
      "2250218867520\n"
     ]
    }
   ],
   "source": [
    "# Cadena / String\n",
    "string2 = \"backend\"\n",
    "string3 = \"Ebac\"\n",
    "print(string2)\n",
    "print(string3)\n",
    "print(type(string2))\n",
    "print(type(string3))\n",
    "print(id(string2))\n",
    "print(id(string3))"
   ]
  },
  {
   "cell_type": "markdown",
   "id": "a7aa9a8c-73a0-46a2-8060-a79c67ee395c",
   "metadata": {},
   "source": [
    "# Multiples Valores de Entrada"
   ]
  },
  {
   "cell_type": "code",
   "execution_count": 263,
   "id": "f8959aa2-16c5-48c9-b5b7-567cfa3222cf",
   "metadata": {},
   "outputs": [
    {
     "ename": "TypeError",
     "evalue": "'str' object is not callable",
     "output_type": "error",
     "traceback": [
      "\u001b[1;31m---------------------------------------------------------------------------\u001b[0m",
      "\u001b[1;31mTypeError\u001b[0m                                 Traceback (most recent call last)",
      "Cell \u001b[1;32mIn[263], line 1\u001b[0m\n\u001b[1;32m----> 1\u001b[0m number \u001b[38;5;241m=\u001b[39m \u001b[38;5;28minput\u001b[39m(\u001b[38;5;124m\"\u001b[39m\u001b[38;5;124mIngresa un numero: \u001b[39m\u001b[38;5;124m\"\u001b[39m)\n\u001b[0;32m      3\u001b[0m \u001b[38;5;28mprint\u001b[39m(\u001b[38;5;124m\"\u001b[39m\u001b[38;5;124mEl valor de number es: \u001b[39m\u001b[38;5;124m\"\u001b[39m, number)\n",
      "\u001b[1;31mTypeError\u001b[0m: 'str' object is not callable"
     ]
    }
   ],
   "source": [
    "number = input(\"Ingresa un numero: \")\n",
    "\n",
    "print(\"El valor de number es: \", number)"
   ]
  },
  {
   "cell_type": "code",
   "execution_count": 265,
   "id": "f5c39365-1bfe-4fea-9f64-dd86505d14f8",
   "metadata": {},
   "outputs": [
    {
     "ename": "TypeError",
     "evalue": "'str' object is not callable",
     "output_type": "error",
     "traceback": [
      "\u001b[1;31m---------------------------------------------------------------------------\u001b[0m",
      "\u001b[1;31mTypeError\u001b[0m                                 Traceback (most recent call last)",
      "Cell \u001b[1;32mIn[265], line 1\u001b[0m\n\u001b[1;32m----> 1\u001b[0m a,b,c \u001b[38;5;241m=\u001b[39m \u001b[38;5;28minput\u001b[39m(\u001b[38;5;124m\"\u001b[39m\u001b[38;5;124mIngresa un numero: \u001b[39m\u001b[38;5;124m\"\u001b[39m)\u001b[38;5;241m.\u001b[39msplit()\n\u001b[0;32m      3\u001b[0m \u001b[38;5;28mprint\u001b[39m(\u001b[38;5;124m\"\u001b[39m\u001b[38;5;124mEl valor de a es: \u001b[39m\u001b[38;5;124m\"\u001b[39m, a)\n\u001b[0;32m      4\u001b[0m \u001b[38;5;28mprint\u001b[39m(\u001b[38;5;124m\"\u001b[39m\u001b[38;5;124mEl valor de b es: \u001b[39m\u001b[38;5;124m\"\u001b[39m, b)\n",
      "\u001b[1;31mTypeError\u001b[0m: 'str' object is not callable"
     ]
    }
   ],
   "source": [
    "a,b,c = input(\"Ingresa 3 valores: \").split()\n",
    "\n",
    "print(\"El valor de a es: \", a)\n",
    "print(\"El valor de b es: \", b)\n",
    "print(\"El valor de c es: \", c)"
   ]
  },
  {
   "cell_type": "code",
   "execution_count": 267,
   "id": "17726b04-fd8a-4023-87f6-111e1c7c2f90",
   "metadata": {},
   "outputs": [
    {
     "ename": "TypeError",
     "evalue": "'str' object is not callable",
     "output_type": "error",
     "traceback": [
      "\u001b[1;31m---------------------------------------------------------------------------\u001b[0m",
      "\u001b[1;31mTypeError\u001b[0m                                 Traceback (most recent call last)",
      "Cell \u001b[1;32mIn[267], line 1\u001b[0m\n\u001b[1;32m----> 1\u001b[0m a,b,c \u001b[38;5;241m=\u001b[39m \u001b[38;5;28minput\u001b[39m(\u001b[38;5;124m\"\u001b[39m\u001b[38;5;124mIngresa 3 valores separados por coma: \u001b[39m\u001b[38;5;124m\"\u001b[39m)\u001b[38;5;241m.\u001b[39msplit(\u001b[38;5;124m\"\u001b[39m\u001b[38;5;124m,\u001b[39m\u001b[38;5;124m\"\u001b[39m)\n\u001b[0;32m      3\u001b[0m \u001b[38;5;28mprint\u001b[39m(\u001b[38;5;124m\"\u001b[39m\u001b[38;5;124mEl valor de a es: \u001b[39m\u001b[38;5;124m\"\u001b[39m, a)\n\u001b[0;32m      4\u001b[0m \u001b[38;5;28mprint\u001b[39m(\u001b[38;5;124m\"\u001b[39m\u001b[38;5;124mEl valor de b es: \u001b[39m\u001b[38;5;124m\"\u001b[39m, b)\n",
      "\u001b[1;31mTypeError\u001b[0m: 'str' object is not callable"
     ]
    }
   ],
   "source": [
    "a,b,c = input(\"Ingresa 3 valores separados por coma: \").split(\",\")\n",
    "\n",
    "print(\"El valor de a es: \", a)\n",
    "print(\"El valor de b es: \", b)\n",
    "print(\"El valor de c es: \", c)"
   ]
  },
  {
   "cell_type": "code",
   "execution_count": null,
   "id": "006d947f-91cc-49cf-87fb-1a936c90bf22",
   "metadata": {},
   "outputs": [],
   "source": []
  }
 ],
 "metadata": {
  "kernelspec": {
   "display_name": "Python 3 (ipykernel)",
   "language": "python",
   "name": "python3"
  },
  "language_info": {
   "codemirror_mode": {
    "name": "ipython",
    "version": 3
   },
   "file_extension": ".py",
   "mimetype": "text/x-python",
   "name": "python",
   "nbconvert_exporter": "python",
   "pygments_lexer": "ipython3",
   "version": "3.12.4"
  }
 },
 "nbformat": 4,
 "nbformat_minor": 5
}
