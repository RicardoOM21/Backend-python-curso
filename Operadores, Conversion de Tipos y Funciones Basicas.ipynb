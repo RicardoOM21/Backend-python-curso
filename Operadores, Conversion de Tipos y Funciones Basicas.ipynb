{
 "cells": [
  {
   "cell_type": "markdown",
   "id": "8625978d-2760-48f7-a0fe-1d357721a8db",
   "metadata": {},
   "source": [
    "# Operadores y Tipos de Operadores"
   ]
  },
  {
   "cell_type": "markdown",
   "id": "66153d8e-c9ce-4f80-9332-c9b8673e680d",
   "metadata": {},
   "source": [
    "¿Qué son los operadores?\n",
    "- Son un conjunto de simbolos para un lenguaje de programacion\n",
    "- Pueden decirle al compilador o interprete que ejecute ciertas acciones para producir un resultado final\n",
    "- Pueden ser usados para aplicar operaciones en variables o valores\n",
    "- Pueden ser clasificados segun su tipo (aritmeticos, relacionales, de asignacion, logicos, afiliacion y de identidad)"
   ]
  },
  {
   "cell_type": "markdown",
   "id": "66c882fe-3ee9-4342-a486-e6aa7aa3d591",
   "metadata": {},
   "source": [
    "Tipos de Operadores:\n",
    "- Aritmeticos\n",
    "- Relacionales\n",
    "- De Asignacion\n",
    "- Logicos\n",
    "- Aflicacion\n",
    "- De Identidad"
   ]
  },
  {
   "cell_type": "markdown",
   "id": "8ea8ef2f-5707-4e3f-a6db-25af5a8407f5",
   "metadata": {},
   "source": [
    "### Operadores Aritmeticos\n",
    "- \"+\": suma\n",
    "- \"-\": resta\n",
    "- \"*\": multiplicacion\n",
    "- \"/\": Division\n",
    "- \"//\": Division con redondeo hacia abajo\n",
    "- \"**\": Potencia / Exponente"
   ]
  },
  {
   "cell_type": "code",
   "execution_count": 5,
   "id": "3f0bde69-ea8b-4d26-85c7-a4ce4107eb3f",
   "metadata": {},
   "outputs": [
    {
     "name": "stdout",
     "output_type": "stream",
     "text": [
      "El resultado de la suma es:  800\n"
     ]
    }
   ],
   "source": [
    "# \"+\": suma\n",
    "num1 = 500\n",
    "num2 = 300\n",
    "print(\"El resultado de la suma es: \", num1+num2)"
   ]
  },
  {
   "cell_type": "code",
   "execution_count": 7,
   "id": "aa2f5298-bfcb-499a-8139-73d89e29010b",
   "metadata": {},
   "outputs": [
    {
     "name": "stdout",
     "output_type": "stream",
     "text": [
      "El resultado de la suma es:  1100\n"
     ]
    }
   ],
   "source": [
    "num1 = 200\n",
    "num2 = 900\n",
    "print(\"El resultado de la suma es: \", num1+num2)"
   ]
  },
  {
   "cell_type": "code",
   "execution_count": 9,
   "id": "b9e7d832-5ec9-4c45-8a71-0ad3968d6317",
   "metadata": {},
   "outputs": [
    {
     "name": "stdout",
     "output_type": "stream",
     "text": [
      "El resultao de la resta es: 200\n"
     ]
    }
   ],
   "source": [
    "# \"-\": resta\n",
    "num1 = 500\n",
    "num2 = 300\n",
    "print(\"El resultao de la resta es:\", num1-num2)"
   ]
  },
  {
   "cell_type": "code",
   "execution_count": 11,
   "id": "42009cd3-5574-4203-9ac2-f9d50a5eef69",
   "metadata": {},
   "outputs": [
    {
     "name": "stdout",
     "output_type": "stream",
     "text": [
      "El resultao de la resta es: -700\n"
     ]
    }
   ],
   "source": [
    "num1 = 200\n",
    "num2 = 900\n",
    "print(\"El resultao de la resta es:\", num1-num2)"
   ]
  },
  {
   "cell_type": "code",
   "execution_count": 13,
   "id": "74764bf9-041b-4692-9bd8-5df05edafcfa",
   "metadata": {},
   "outputs": [
    {
     "name": "stdout",
     "output_type": "stream",
     "text": [
      "El resultao de la multiplicacion es: 150000\n"
     ]
    }
   ],
   "source": [
    "# \"*\": multiplicacion\n",
    "num1 = 500\n",
    "num2 = 300\n",
    "print(\"El resultao de la multiplicacion es:\", num1*num2)"
   ]
  },
  {
   "cell_type": "code",
   "execution_count": 15,
   "id": "82882318-22c3-44be-9296-e410df25a4f7",
   "metadata": {},
   "outputs": [
    {
     "name": "stdout",
     "output_type": "stream",
     "text": [
      "El resultao de la multiplicacion es: 180000\n"
     ]
    }
   ],
   "source": [
    "num1 = 200\n",
    "num2 = 900\n",
    "print(\"El resultao de la multiplicacion es:\", num1*num2)"
   ]
  },
  {
   "cell_type": "code",
   "execution_count": 17,
   "id": "e226668d-f5cd-4cf8-9121-6ae45f2c99e9",
   "metadata": {},
   "outputs": [
    {
     "name": "stdout",
     "output_type": "stream",
     "text": [
      "El resultao de la division es: 1.6666666666666667\n"
     ]
    }
   ],
   "source": [
    "# \"/\": division\n",
    "num1 = 500\n",
    "num2 = 300\n",
    "print(\"El resultao de la division es:\", num1/num2)"
   ]
  },
  {
   "cell_type": "code",
   "execution_count": 19,
   "id": "bdf06c12-4f9a-4aeb-894b-99904abefc43",
   "metadata": {},
   "outputs": [
    {
     "name": "stdout",
     "output_type": "stream",
     "text": [
      "El resultao de la division es: 0.2222222222222222\n"
     ]
    }
   ],
   "source": [
    "num1 = 200\n",
    "num2 = 900\n",
    "print(\"El resultao de la division es:\", num1/num2)"
   ]
  },
  {
   "cell_type": "code",
   "execution_count": 21,
   "id": "baf977f1-bb4c-4b30-95fe-fc09413a99c0",
   "metadata": {},
   "outputs": [
    {
     "name": "stdout",
     "output_type": "stream",
     "text": [
      "El resultao de la division es: 1\n"
     ]
    }
   ],
   "source": [
    "# \"//\": division con redondeo hacia abajo\n",
    "num1 = 500\n",
    "num2 = 300\n",
    "print(\"El resultao de la division es:\", num1//num2)"
   ]
  },
  {
   "cell_type": "code",
   "execution_count": 23,
   "id": "0c56a735-53cf-4152-9e11-7b5a46a783f2",
   "metadata": {},
   "outputs": [
    {
     "name": "stdout",
     "output_type": "stream",
     "text": [
      "El resultao de la division es: 0\n"
     ]
    }
   ],
   "source": [
    "num1 = 200\n",
    "num2 = 900\n",
    "print(\"El resultao de la division es:\", num1//num2)"
   ]
  },
  {
   "cell_type": "code",
   "execution_count": 25,
   "id": "a3d3a425-cf30-4a5a-869d-6e0e3e2775b0",
   "metadata": {},
   "outputs": [
    {
     "name": "stdout",
     "output_type": "stream",
     "text": [
      "El resultao de la potencia es: 32\n"
     ]
    }
   ],
   "source": [
    "# \"**\": Potencia / Exponente\n",
    "num1 = 2\n",
    "num2 = 5\n",
    "print(\"El resultao de la potencia es:\", num1**num2) # 2*2*2*2*2"
   ]
  },
  {
   "cell_type": "code",
   "execution_count": 27,
   "id": "5f6e0b55-1ac4-4bc0-9bc8-f8401aa5020f",
   "metadata": {},
   "outputs": [
    {
     "name": "stdout",
     "output_type": "stream",
     "text": [
      "El resultao de la potencia es: 27\n"
     ]
    }
   ],
   "source": [
    "num1 = 3\n",
    "num2 = 3\n",
    "print(\"El resultao de la potencia es:\", num1**num2) # 3*3*3"
   ]
  },
  {
   "cell_type": "markdown",
   "id": "1838b4fe-7c96-4a84-ba0b-4b48ad9f52cd",
   "metadata": {},
   "source": [
    "## Operadores Relacionales\n"
   ]
  },
  {
   "cell_type": "markdown",
   "id": "67b45be8-2ae6-40e2-b8ed-9137cf55481d",
   "metadata": {},
   "source": [
    "¿Que son los operadores relacionales?\n",
    " - son tambien conocidos como operadores de comparacion\n",
    " - Regresa un valor booleano (Verdadero o Falso)\n",
    " - En python, son usados para comparar o relacionar los valores\n",
    " - Verdadero/True, es el resultado cuando la condicion es validada\n",
    " - Falso/False, es el resultado cuando la condicion no se cumple\n",
    " - Estos operadores se encargar de las operaciones de comparacion"
   ]
  },
  {
   "cell_type": "markdown",
   "id": "3193a1bd-f194-411b-bd1f-3754dc13aa57",
   "metadata": {},
   "source": [
    "Tipos de Operadores Relacionales\n",
    " - \"==\" : Igual a\n",
    " - \"!=\" : Diferente a\n",
    " - \">\" : Mayor que\n",
    " - \">=\" : Mayor o igual que\n",
    " - \"<\" : Menor que\n",
    " - \"<=\" : Menor o igual que"
   ]
  },
  {
   "cell_type": "code",
   "execution_count": 32,
   "id": "fe981158-da2f-4252-a74e-a22fd0bafc92",
   "metadata": {},
   "outputs": [
    {
     "name": "stdout",
     "output_type": "stream",
     "text": [
      "El resultado de num1 == num2 es:  False\n"
     ]
    }
   ],
   "source": [
    "# \"==\" : Igual a\n",
    "\n",
    "num1 = 570 # asignacion\n",
    "num2 = 420\n",
    "print(\"El resultado de num1 == num2 es: \",num1==num2)"
   ]
  },
  {
   "cell_type": "code",
   "execution_count": 34,
   "id": "3913ce98-2e4e-48af-b717-c6a1d6199d05",
   "metadata": {},
   "outputs": [
    {
     "name": "stdout",
     "output_type": "stream",
     "text": [
      "El resultado de num1 == num2 es:  True\n"
     ]
    }
   ],
   "source": [
    "num1 = 570 # asignacion\n",
    "num2 = 570\n",
    "print(\"El resultado de num1 == num2 es: \",num1==num2)"
   ]
  },
  {
   "cell_type": "code",
   "execution_count": 36,
   "id": "f2f40163-dce0-44d1-aa2a-8c16f4a280ec",
   "metadata": {},
   "outputs": [
    {
     "name": "stdout",
     "output_type": "stream",
     "text": [
      "El resultado de string1 == string2 es : True\n"
     ]
    }
   ],
   "source": [
    "string1 = \"Backend Python\" # Asignacion\n",
    "string2 = \"Backend Python\"\n",
    "print(\"El resultado de string1 == string2 es :\", string1 == string2)"
   ]
  },
  {
   "cell_type": "code",
   "execution_count": 40,
   "id": "26863710-d6ea-4a8d-ba6c-8160e74f584e",
   "metadata": {},
   "outputs": [
    {
     "name": "stdout",
     "output_type": "stream",
     "text": [
      "El resultado de string1 == string2 es : False\n"
     ]
    }
   ],
   "source": [
    "string1 = \"Backend Python\" # Asignacion\n",
    "string2 = \"backend python\"\n",
    "print(\"El resultado de string1 == string2 es :\", string1 == string2)"
   ]
  },
  {
   "cell_type": "code",
   "execution_count": 42,
   "id": "b2a34dd4-1eb2-40e2-a162-73892dde0a1b",
   "metadata": {},
   "outputs": [
    {
     "name": "stdout",
     "output_type": "stream",
     "text": [
      "El resultado de num1 != num2 es:  True\n"
     ]
    }
   ],
   "source": [
    "# \"!=\" : Diferente a\n",
    "num1 = 570 # asignacion\n",
    "num2 = 420\n",
    "print(\"El resultado de num1 != num2 es: \",num1!=num2)"
   ]
  },
  {
   "cell_type": "code",
   "execution_count": 44,
   "id": "4e050592-7e0f-47a2-b083-289230add161",
   "metadata": {},
   "outputs": [
    {
     "name": "stdout",
     "output_type": "stream",
     "text": [
      "El resultado de num1 != num2 es:  False\n"
     ]
    }
   ],
   "source": [
    "num1 = 570 # asignacion\n",
    "num2 = 570\n",
    "print(\"El resultado de num1 != num2 es: \",num1!=num2)"
   ]
  },
  {
   "cell_type": "code",
   "execution_count": 46,
   "id": "fcbe5740-0580-4f07-bfcd-8f3837ee7a2d",
   "metadata": {},
   "outputs": [
    {
     "name": "stdout",
     "output_type": "stream",
     "text": [
      "El resultado de string1 != string2 es : False\n"
     ]
    }
   ],
   "source": [
    "string1 = \"Backend Python\" # Asignacion\n",
    "string2 = \"Backend Python\"\n",
    "print(\"El resultado de string1 != string2 es :\", string1 != string2)"
   ]
  },
  {
   "cell_type": "code",
   "execution_count": 48,
   "id": "75d11fd7-50db-4ab7-bfb2-dbf2ecd01483",
   "metadata": {},
   "outputs": [
    {
     "name": "stdout",
     "output_type": "stream",
     "text": [
      "El resultado de string1 != string2 es : True\n"
     ]
    }
   ],
   "source": [
    "string1 = \"Backend Python\" # Asignacion\n",
    "string2 = \"Backend python\"\n",
    "print(\"El resultado de string1 != string2 es :\", string1 != string2)"
   ]
  },
  {
   "cell_type": "code",
   "execution_count": 50,
   "id": "5d0a292e-35cf-4097-bd14-bc5f7a60ebc3",
   "metadata": {},
   "outputs": [
    {
     "name": "stdout",
     "output_type": "stream",
     "text": [
      "El resultado de num1 > num2 es:  True\n"
     ]
    }
   ],
   "source": [
    "# \">\" : Mayor que\n",
    "num1 = 570 # asignacion\n",
    "num2 = 420\n",
    "print(\"El resultado de num1 > num2 es: \",num1 > num2)"
   ]
  },
  {
   "cell_type": "code",
   "execution_count": 52,
   "id": "d8bbf86c-746b-4040-a4ea-ade62f3e13a2",
   "metadata": {},
   "outputs": [
    {
     "name": "stdout",
     "output_type": "stream",
     "text": [
      "El resultado de num1 > num2 es:  False\n"
     ]
    }
   ],
   "source": [
    "num1 = 570 # asignacion\n",
    "num2 = 570\n",
    "print(\"El resultado de num1 > num2 es: \",num1 > num2)"
   ]
  },
  {
   "cell_type": "code",
   "execution_count": 54,
   "id": "af456703-eeee-40fa-83d5-354b54aa24a7",
   "metadata": {},
   "outputs": [
    {
     "name": "stdout",
     "output_type": "stream",
     "text": [
      "El resultado de num1 > num2 es:  False\n"
     ]
    }
   ],
   "source": [
    "num1 = 570 # asignacion\n",
    "num2 = 890\n",
    "print(\"El resultado de num1 > num2 es: \",num1 > num2)"
   ]
  },
  {
   "cell_type": "code",
   "execution_count": 56,
   "id": "0cb61a53-a137-45c2-838a-001774dcd4c4",
   "metadata": {},
   "outputs": [
    {
     "name": "stdout",
     "output_type": "stream",
     "text": [
      "El resultado de num1 >= num2 es:  True\n"
     ]
    }
   ],
   "source": [
    "# \">=\" : Mayor o igual que\n",
    "num1 = 570 # asignacion\n",
    "num2 = 420\n",
    "print(\"El resultado de num1 >= num2 es: \",num1 >= num2)"
   ]
  },
  {
   "cell_type": "code",
   "execution_count": 58,
   "id": "ebe1bb05-dadd-4cbc-8f82-d5225cf91ad2",
   "metadata": {},
   "outputs": [
    {
     "name": "stdout",
     "output_type": "stream",
     "text": [
      "El resultado de num1 >= num2 es:  True\n"
     ]
    }
   ],
   "source": [
    "num1 = 570 # asignacion\n",
    "num2 = 570\n",
    "print(\"El resultado de num1 >= num2 es: \",num1 >= num2)"
   ]
  },
  {
   "cell_type": "code",
   "execution_count": 60,
   "id": "898ba235-ff8d-4813-bedf-d3189c0b0bd9",
   "metadata": {},
   "outputs": [
    {
     "name": "stdout",
     "output_type": "stream",
     "text": [
      "El resultado de num1 >= num2 es:  False\n"
     ]
    }
   ],
   "source": [
    "num1 = 570 # asignacion\n",
    "num2 = 890\n",
    "print(\"El resultado de num1 >= num2 es: \",num1 >= num2)"
   ]
  },
  {
   "cell_type": "code",
   "execution_count": 62,
   "id": "6e5fc37d-8200-4dc4-b0e0-d1e86a02f25a",
   "metadata": {},
   "outputs": [
    {
     "name": "stdout",
     "output_type": "stream",
     "text": [
      "El resultado de num1 < num2 es:  False\n"
     ]
    }
   ],
   "source": [
    "# \"<\" : Menor que\n",
    "num1 = 570 # asignacion\n",
    "num2 = 420\n",
    "print(\"El resultado de num1 < num2 es: \",num1 < num2)"
   ]
  },
  {
   "cell_type": "code",
   "execution_count": 64,
   "id": "6ad4f238-6c37-447f-ba11-b2525c2b8744",
   "metadata": {},
   "outputs": [
    {
     "name": "stdout",
     "output_type": "stream",
     "text": [
      "El resultado de num1 < num2 es:  False\n"
     ]
    }
   ],
   "source": [
    "num1 = 570 # asignacion\n",
    "num2 = 570\n",
    "print(\"El resultado de num1 < num2 es: \",num1 < num2)"
   ]
  },
  {
   "cell_type": "code",
   "execution_count": 66,
   "id": "792afe0c-e2a1-4f3f-b907-b9abb78d8ad3",
   "metadata": {},
   "outputs": [
    {
     "name": "stdout",
     "output_type": "stream",
     "text": [
      "El resultado de num1 < num2 es:  True\n"
     ]
    }
   ],
   "source": [
    "num1 = 570 # asignacion\n",
    "num2 = 890\n",
    "print(\"El resultado de num1 < num2 es: \",num1 < num2)"
   ]
  },
  {
   "cell_type": "code",
   "execution_count": 68,
   "id": "e2b3eeed-5f45-408f-b6b8-423d265649be",
   "metadata": {},
   "outputs": [
    {
     "name": "stdout",
     "output_type": "stream",
     "text": [
      "El resultado de num1 <= num2 es:  False\n"
     ]
    }
   ],
   "source": [
    "# \"<=\" : menor o igual que\n",
    "num1 = 570 # asignacion\n",
    "num2 = 420\n",
    "print(\"El resultado de num1 <= num2 es: \",num1 <= num2)"
   ]
  },
  {
   "cell_type": "code",
   "execution_count": 70,
   "id": "45948b4f-569e-444e-bf78-a50086157efc",
   "metadata": {},
   "outputs": [
    {
     "name": "stdout",
     "output_type": "stream",
     "text": [
      "El resultado de num1 <=num2 es:  True\n"
     ]
    }
   ],
   "source": [
    "num1 = 570 # asignacion\n",
    "num2 = 570\n",
    "print(\"El resultado de num1 <=num2 es: \",num1 <= num2)"
   ]
  },
  {
   "cell_type": "code",
   "execution_count": 72,
   "id": "d55ba375-b029-4021-beec-7af79f8eb287",
   "metadata": {},
   "outputs": [
    {
     "name": "stdout",
     "output_type": "stream",
     "text": [
      "El resultado de num1 <= num2 es:  True\n"
     ]
    }
   ],
   "source": [
    "num1 = 570 # asignacion\n",
    "num2 = 890\n",
    "print(\"El resultado de num1 <= num2 es: \",num1 <= num2)"
   ]
  },
  {
   "cell_type": "markdown",
   "id": "67f52078-a348-410f-bfb8-b1d90e3c58c7",
   "metadata": {},
   "source": [
    "### Operadores de Asignacion"
   ]
  },
  {
   "cell_type": "markdown",
   "id": "0b0b77ae-3edc-4d24-9982-0841191edd03",
   "metadata": {},
   "source": [
    "¿Que son los operadores de asignacion?\n",
    " - En python son usados para asignar valores a variables\n",
    " - Incluyen al operador de asignacion que es el signo de igual \"=\"\n"
   ]
  },
  {
   "cell_type": "markdown",
   "id": "f239a9ef-ab38-4e37-be34-673e24d2a67c",
   "metadata": {},
   "source": [
    "Tipos de operadores de asignacion: \n",
    "- \"=\" : Operador de asignacion\n",
    "- \"+=\" : sumar y asignar\n",
    "- \"-=\" : restar y asignar\n",
    "- \"*=\" : multiplicar y asignar\n",
    "- \"/=\" : dividir y asignar\n",
    "- \"//=\" : dividir redondeando hacia abajo y asignar\n",
    "- \"%=\" : Modulo y asignar\n",
    "- \"**=\" : Exponente y asignar\n",
    "  "
   ]
  },
  {
   "cell_type": "code",
   "execution_count": 77,
   "id": "e6a98bfc-1acf-4e66-b341-4149c788afe9",
   "metadata": {},
   "outputs": [],
   "source": [
    "# \"=\" : Operador de asignacion\n",
    "num1 = 20\n",
    "num2 = 3"
   ]
  },
  {
   "cell_type": "code",
   "execution_count": 79,
   "id": "32398ce2-a173-442a-9eba-18d9946839df",
   "metadata": {},
   "outputs": [
    {
     "name": "stdout",
     "output_type": "stream",
     "text": [
      "num1 antes de la operacion 20\n",
      "El valor de num1 es:  23\n"
     ]
    }
   ],
   "source": [
    "# \"+=\" : Sumar y asignar\n",
    "num1 = 20\n",
    "num2 = 3\n",
    "print(\"num1 antes de la operacion\",num1)\n",
    "num1 += num2 # num1 = num1 + num2\n",
    "print(\"El valor de num1 es: \",num1)"
   ]
  },
  {
   "cell_type": "code",
   "execution_count": 81,
   "id": "bf5017f6-5a47-4da4-9fdc-ba697be67450",
   "metadata": {},
   "outputs": [
    {
     "name": "stdout",
     "output_type": "stream",
     "text": [
      "num1 antes de la operacion 20\n",
      "El valor de num1 es:  17\n"
     ]
    }
   ],
   "source": [
    "# \"-=\" : restar y asignar\n",
    "num1 = 20\n",
    "num2 = 3\n",
    "print(\"num1 antes de la operacion\",num1)\n",
    "num1 -= num2 # num1 = num1 - num2\n",
    "print(\"El valor de num1 es: \",num1)"
   ]
  },
  {
   "cell_type": "code",
   "execution_count": 83,
   "id": "d12ba4c4-db84-4c85-9ca2-027bea6c39c2",
   "metadata": {},
   "outputs": [
    {
     "name": "stdout",
     "output_type": "stream",
     "text": [
      "num1 antes de la operacion 20\n",
      "El valor de num1 es:  60\n"
     ]
    }
   ],
   "source": [
    "# \"*=\" : multiplicar y asignar\n",
    "num1 = 20\n",
    "num2 = 3\n",
    "print(\"num1 antes de la operacion\",num1)\n",
    "num1 *= num2 # num1 = num1 * num2\n",
    "print(\"El valor de num1 es: \",num1)"
   ]
  },
  {
   "cell_type": "code",
   "execution_count": 85,
   "id": "2dfe3d93-443b-4cc4-a26a-b0282eca04bd",
   "metadata": {},
   "outputs": [
    {
     "name": "stdout",
     "output_type": "stream",
     "text": [
      "num1 antes de la operacion 20\n",
      "El valor de num1 es:  6.666666666666667\n"
     ]
    }
   ],
   "source": [
    "# \"/=\" : dividir y asignar\n",
    "num1 = 20\n",
    "num2 = 3\n",
    "print(\"num1 antes de la operacion\",num1)\n",
    "num1 /= num2 # num1 = num1 / num2\n",
    "print(\"El valor de num1 es: \",num1)"
   ]
  },
  {
   "cell_type": "code",
   "execution_count": 87,
   "id": "a1297873-4a0a-4e0d-834b-6edb6d56c9e7",
   "metadata": {},
   "outputs": [
    {
     "name": "stdout",
     "output_type": "stream",
     "text": [
      "num1 antes de la operacion 20\n",
      "El valor de num1 es:  6\n"
     ]
    }
   ],
   "source": [
    "# \"//=\" : dividir con redondeo hacia abajo y asignar\n",
    "num1 = 20\n",
    "num2 = 3\n",
    "print(\"num1 antes de la operacion\",num1)\n",
    "num1 //= num2 # num1 = num1 // num2\n",
    "print(\"El valor de num1 es: \",num1)"
   ]
  },
  {
   "cell_type": "code",
   "execution_count": 105,
   "id": "e5b93c99-db95-429e-8942-a16ac5a21a0b",
   "metadata": {},
   "outputs": [
    {
     "name": "stdout",
     "output_type": "stream",
     "text": [
      "num1 antes de la operacion 20\n",
      "El valor de num1 es:  2\n"
     ]
    }
   ],
   "source": [
    "# \"%=\" : Modulo y asignar, El numero que queda despues de haber dividido, residuo\n",
    "num1 = 20\n",
    "num2 = 3\n",
    "print(\"num1 antes de la operacion\",num1)\n",
    "num1 %= num2 # num1 = num1 % num2\n",
    "print(\"El valor de num1 es: \",num1)"
   ]
  },
  {
   "cell_type": "code",
   "execution_count": 107,
   "id": "99b4bb5b-feb6-49d1-8f9c-eb1ef2b9a777",
   "metadata": {},
   "outputs": [
    {
     "name": "stdout",
     "output_type": "stream",
     "text": [
      "num1 antes de la operacion 20\n",
      "El valor de num1 es:  8000\n"
     ]
    }
   ],
   "source": [
    "# \"**=\" : Exponente y asignar\n",
    "num1 = 20\n",
    "num2 = 3\n",
    "print(\"num1 antes de la operacion\",num1)\n",
    "num1 **= num2 # num1 = num1 ** num2\n",
    "# 20 * 20 * 20\n",
    "print(\"El valor de num1 es: \",num1)"
   ]
  },
  {
   "cell_type": "markdown",
   "id": "aca5fea7-2fb3-4d28-8b66-c90e7ae65532",
   "metadata": {},
   "source": [
    "### Operadores Logicos"
   ]
  },
  {
   "cell_type": "markdown",
   "id": "932f5560-4c28-4911-97a8-b982453d5c2c",
   "metadata": {},
   "source": [
    "¿Que son los operadores logicos?\n",
    "- son usados principalmente para declaraciones condicionales\n",
    "- Son indicadores estructurales\n",
    "- Tambien se les conoce como conectores logicos\n",
    "- hay 3 tipos de operadores logicos:\n",
    "  - AND (y) - regresa True/Verdadero si ambas operaciones son verdaderos\n",
    "  - OR (o) -  regresa True/Verdadero si por lo menos una de las operaciones es verdadera\n",
    "  - NOT (Lo opuesto) - regresa True/Verdadero si la operacion es False/Falso"
   ]
  },
  {
   "cell_type": "code",
   "execution_count": 111,
   "id": "f3221896-96ca-464f-b0d7-b5617f3dd7a2",
   "metadata": {},
   "outputs": [
    {
     "name": "stdout",
     "output_type": "stream",
     "text": [
      "num1 <= num2 and num1 != num2 True\n"
     ]
    }
   ],
   "source": [
    "# AND (y)\n",
    "# Todas las condiciones deben ser verdaderas\n",
    "num1 = 11\n",
    "num2 = 55\n",
    "# num1 <= num2 : True/Verdadero\n",
    "# num1 != num2 : True/Verdadero\n",
    "print(\"num1 <= num2 and num1 != num2\", num1 <= num2 and num1 != num2)"
   ]
  },
  {
   "cell_type": "code",
   "execution_count": 113,
   "id": "1e749823-095e-493c-a644-f2aee4c4e9bf",
   "metadata": {},
   "outputs": [
    {
     "name": "stdout",
     "output_type": "stream",
     "text": [
      "num1 <= num2 and num1 != num2 False\n"
     ]
    }
   ],
   "source": [
    "num1 = 11\n",
    "num2 = 11\n",
    "# num1 <= num2 : True/Verdadero\n",
    "# num1 != num2 : False/Falso\n",
    "print(\"num1 <= num2 and num1 != num2\", num1 <= num2 and num1 != num2)"
   ]
  },
  {
   "cell_type": "code",
   "execution_count": 115,
   "id": "8aa6e41c-5f23-4607-8285-6b506acd5906",
   "metadata": {},
   "outputs": [
    {
     "name": "stdout",
     "output_type": "stream",
     "text": [
      "num1 <= num2 and num1 != num2 True\n"
     ]
    }
   ],
   "source": [
    "num1 = 11\n",
    "num2 = 55\n",
    "# num1 <= num2 : True/Verdadero\n",
    "# num1 != num2 : True/Verdadero\n",
    "# num1 > 10 : True/Verdadero\n",
    "print(\"num1 <= num2 and num1 != num2\", num1 <= num2 and num1 != num2 and num1 > 10 )"
   ]
  },
  {
   "cell_type": "code",
   "execution_count": 119,
   "id": "ab7d694c-446a-4fed-9a89-97898b07ec35",
   "metadata": {},
   "outputs": [
    {
     "name": "stdout",
     "output_type": "stream",
     "text": [
      "num1 <= num2 and num1 != num2 False\n"
     ]
    }
   ],
   "source": [
    "num1 = 11\n",
    "num2 = 11\n",
    "# num1 <= num2 : True/Verdadero\n",
    "# num1 != num2 : False/Falso\n",
    "# num1 > 10 : True/Verdadero\n",
    "print(\"num1 <= num2 and num1 != num2\", num1 <= num2 and num1 != num2 and num1 > 10 )"
   ]
  },
  {
   "cell_type": "code",
   "execution_count": 123,
   "id": "5a84b1af-5605-43fd-a2f2-67da94058f6f",
   "metadata": {},
   "outputs": [
    {
     "name": "stdout",
     "output_type": "stream",
     "text": [
      "num1 <= num2 and num1 != num2 True\n"
     ]
    }
   ],
   "source": [
    "# OR (o) - con que una de las condiciones se cumpla regresa Tue\n",
    "\n",
    "num1 = 11\n",
    "num2 = 55\n",
    "# num1 <= num2 : True/Verdadero\n",
    "# num1 != num2 : True/Verdadero\n",
    "print(\"num1 <= num2 and num1 != num2\", num1 <= num2 or num1 != num2)"
   ]
  },
  {
   "cell_type": "code",
   "execution_count": 125,
   "id": "83225592-997c-442e-96a9-f298f3cfcf59",
   "metadata": {},
   "outputs": [
    {
     "name": "stdout",
     "output_type": "stream",
     "text": [
      "num1 <= num2 and num1 != num2 True\n"
     ]
    }
   ],
   "source": [
    "num1 = 11\n",
    "num2 = 11\n",
    "# num1 <= num2 : True/Verdadero\n",
    "# num1 != num2 : False/Falso\n",
    "print(\"num1 <= num2 and num1 != num2\", num1 <= num2 or num1 != num2)"
   ]
  },
  {
   "cell_type": "code",
   "execution_count": 129,
   "id": "240e5eb4-b575-4ef6-804b-ff50a46b1701",
   "metadata": {},
   "outputs": [
    {
     "name": "stdout",
     "output_type": "stream",
     "text": [
      "num1 <= num2 and num1 != num2 True\n"
     ]
    }
   ],
   "source": [
    "num1 = 11\n",
    "num2 = 11\n",
    "# num1 <= num2 : True/Verdadero\n",
    "# num1 != num2 : False/Falso\n",
    "# num1 > 10 : True/Verdadero\n",
    "print(\"num1 <= num2 and num1 != num2\", num1 <= num2 or num1 != num2 or num1 > 10 )"
   ]
  },
  {
   "cell_type": "code",
   "execution_count": 131,
   "id": "218069eb-a6de-430e-8fd8-36307e63ed71",
   "metadata": {},
   "outputs": [
    {
     "name": "stdout",
     "output_type": "stream",
     "text": [
      "num1 <= num2 and num1 != num2 True\n"
     ]
    }
   ],
   "source": [
    "num1 = 11\n",
    "num2 = 55\n",
    "# num1 <= num2 : True/Verdadero\n",
    "# num1 != num2 : True/Verdadero\n",
    "# num1 > 10 : True/Verdadero\n",
    "print(\"num1 <= num2 and num1 != num2\", num1 <= num2 or num1 != num2 or num1 > 10 )"
   ]
  },
  {
   "cell_type": "code",
   "execution_count": 137,
   "id": "a75e22ab-ceaf-4609-877f-607d828c2a7e",
   "metadata": {},
   "outputs": [
    {
     "name": "stdout",
     "output_type": "stream",
     "text": [
      "not num1 <= num2 : False\n"
     ]
    }
   ],
   "source": [
    "# NOT (lo opuesto) - \n",
    "# La condicion debe ser false\n",
    "\n",
    "num1 = 11\n",
    "num2 = 55\n",
    "# num1 <= num2: True/Verdadero\n",
    "print(\"not num1 <= num2 :\", not num1 <= num2)"
   ]
  },
  {
   "cell_type": "code",
   "execution_count": 141,
   "id": "07cd640a-befe-4209-b531-3681e89b0ff2",
   "metadata": {},
   "outputs": [
    {
     "name": "stdout",
     "output_type": "stream",
     "text": [
      "not num1 <= num2 : False\n"
     ]
    }
   ],
   "source": [
    "num1 = 11\n",
    "num2 = 55\n",
    "# num1 != num2: True/Verdadero\n",
    "print(\"not num1 <= num2 :\", not num1 != num2)"
   ]
  },
  {
   "cell_type": "code",
   "execution_count": 143,
   "id": "be0dee25-eba4-4f02-8ce2-c14f648da7c0",
   "metadata": {},
   "outputs": [
    {
     "name": "stdout",
     "output_type": "stream",
     "text": [
      "not num1 > num2 : True\n"
     ]
    }
   ],
   "source": [
    "num1 = 11\n",
    "num2 = 55\n",
    "# num1 > num2: True/Verdadero\n",
    "print(\"not num1 > num2 :\", not num1 > num2)"
   ]
  },
  {
   "cell_type": "markdown",
   "id": "413dd1d0-180e-4b87-8d78-671bccfa4d8e",
   "metadata": {},
   "source": [
    "# Operadores de Afiliacion"
   ]
  },
  {
   "cell_type": "markdown",
   "id": "be642931-d85d-488f-aa0c-96f81165b779",
   "metadata": {},
   "source": [
    "¿Que son los operadores de afiliacion?\n",
    " - Son usados para validar los elementos en listas, cadenas y tuplas\n",
    " - Validan si una variable esta presente en una secuencia\n",
    " - Regresan un valor booleano con el resultado : True/False\n",
    " - Regresan True / Verdadero si el valor esta presente en la secuencia\n",
    " - Regresan False / Falso si el valor no esta presente en la secuencia\n",
    " - Hay 2 Operadores de afiliacion:\n",
    "    - IN - EL valor esta en la secuencia\n",
    "    - NOT IN - el valor no esta en la secuencia"
   ]
  },
  {
   "cell_type": "code",
   "execution_count": 3,
   "id": "3e3e1003-da11-40b3-9811-c97c042a9efa",
   "metadata": {},
   "outputs": [
    {
     "name": "stdout",
     "output_type": "stream",
     "text": [
      "'a' in string True\n"
     ]
    }
   ],
   "source": [
    "# IN: ¿El valor esta presen en la secuencia?\n",
    "\n",
    "string = \"Backend Python\"\n",
    "print(\"'a' in string\", 'a' in string)"
   ]
  },
  {
   "cell_type": "code",
   "execution_count": 9,
   "id": "277f2124-311a-482a-8249-665e7df960bc",
   "metadata": {},
   "outputs": [
    {
     "name": "stdout",
     "output_type": "stream",
     "text": [
      "'i' in string False\n"
     ]
    }
   ],
   "source": [
    "string = \"Backend Python\"\n",
    "print(\"'i' in string\", 'i' in string)"
   ]
  },
  {
   "cell_type": "code",
   "execution_count": 13,
   "id": "c9a0eefa-e20a-449b-b4f8-386c24c8f144",
   "metadata": {},
   "outputs": [
    {
     "name": "stdout",
     "output_type": "stream",
     "text": [
      "'5' in list False\n"
     ]
    }
   ],
   "source": [
    "list = [1, 154, 321, 22, 11]\n",
    "print(\"'5' in list\", 5 in list)"
   ]
  },
  {
   "cell_type": "code",
   "execution_count": 17,
   "id": "ff636a23-4b9f-4191-8bc1-5e229e830ab9",
   "metadata": {},
   "outputs": [
    {
     "name": "stdout",
     "output_type": "stream",
     "text": [
      "'5' in list True\n"
     ]
    }
   ],
   "source": [
    "list = [1, 154, 321, 22, 11, 5] # las listas pueden tener valores duplicados\n",
    "print(\"'5' in list\", 5 in list)"
   ]
  },
  {
   "cell_type": "code",
   "execution_count": 21,
   "id": "88765595-ebbc-4de0-8832-37c33da12d87",
   "metadata": {},
   "outputs": [
    {
     "name": "stdout",
     "output_type": "stream",
     "text": [
      "'5' in list True\n"
     ]
    }
   ],
   "source": [
    "set = {1, 154, 321, 22, 11, 5, 11, 22} # los set solo toma valores unicos, no duplicados\n",
    "print(\"'5' in list\", 5 in set)"
   ]
  },
  {
   "cell_type": "code",
   "execution_count": 25,
   "id": "299e5a91-9288-4e43-a560-a759f8c07f5e",
   "metadata": {},
   "outputs": [
    {
     "name": "stdout",
     "output_type": "stream",
     "text": [
      "'a' not in string False\n"
     ]
    }
   ],
   "source": [
    "# NOT IN : ¿El valor NO esta presente en la secuencia?\n",
    "string = \"Backend Python\"\n",
    "print(\"'a' not in string\", 'a' not in string)"
   ]
  },
  {
   "cell_type": "code",
   "execution_count": 27,
   "id": "83eb9579-0a0d-4356-a3f1-07740a664ff4",
   "metadata": {},
   "outputs": [
    {
     "name": "stdout",
     "output_type": "stream",
     "text": [
      "'i' not in string True\n"
     ]
    }
   ],
   "source": [
    "string = \"Backend Python\"\n",
    "print(\"'i' not in string\", 'i' not in string)"
   ]
  },
  {
   "cell_type": "code",
   "execution_count": 29,
   "id": "6e6f7904-392b-4a71-acfe-6ccf36698fb6",
   "metadata": {},
   "outputs": [
    {
     "name": "stdout",
     "output_type": "stream",
     "text": [
      "'5' not in list False\n"
     ]
    }
   ],
   "source": [
    "list = [1, 154, 321, 22, 11, 5] # las listas pueden tener valores duplicados\n",
    "print(\"'5' not in list\", 5 not in list)"
   ]
  },
  {
   "cell_type": "code",
   "execution_count": 31,
   "id": "235dbfb3-6af9-418c-bdd7-ca1c8a9c80e1",
   "metadata": {},
   "outputs": [
    {
     "name": "stdout",
     "output_type": "stream",
     "text": [
      "'5' not in list False\n"
     ]
    }
   ],
   "source": [
    "set = {1, 154, 321, 22, 11, 5, 11, 22} # los set solo toma valores unicos, no duplicados\n",
    "print(\"'5' not in list\", 5 not in set)"
   ]
  },
  {
   "cell_type": "markdown",
   "id": "f5a69d1d-7400-4a24-ada7-83644a2cef80",
   "metadata": {},
   "source": [
    "### Operadores de Identidad"
   ]
  },
  {
   "cell_type": "markdown",
   "id": "90acbfda-0782-41cb-93ee-9bee324545ec",
   "metadata": {},
   "source": [
    "¿Que son los operadores de identidad?\n",
    " - Son usados para comparar la ubicacion en memoria de dos objetos\n",
    " - Se utilizan para validar si los valores comparten el mismo espacio de memoria o no\n",
    " - Regresa True / Verdadero si lo comparten\n",
    " - Regresa False / Falso si no lo comparten\n",
    " - Hay 2 operadores de identidad:\n",
    "   - IS\n",
    "   - IS NOT\n"
   ]
  },
  {
   "cell_type": "code",
   "execution_count": 36,
   "id": "849f9f78-2132-4dea-a32a-5d6e55d8b398",
   "metadata": {},
   "outputs": [
    {
     "name": "stdout",
     "output_type": "stream",
     "text": [
      "num1 is num2  False\n"
     ]
    }
   ],
   "source": [
    "# IS\n",
    "num1 = 11\n",
    "num2 = 55\n",
    "print(\"num1 is num2 \", num1 is num2)"
   ]
  },
  {
   "cell_type": "code",
   "execution_count": 44,
   "id": "22d85ffe-e699-451d-aaa8-2c4540984e9a",
   "metadata": {},
   "outputs": [
    {
     "name": "stdout",
     "output_type": "stream",
     "text": [
      "num1 is num2  True\n"
     ]
    }
   ],
   "source": [
    "num1 = 77\n",
    "num2 = 77\n",
    "print(\"num1 is num2 \", num1 is num2)"
   ]
  },
  {
   "cell_type": "code",
   "execution_count": 46,
   "id": "401c32dd-6f4e-46bf-b3e5-0e121c7e5edc",
   "metadata": {},
   "outputs": [
    {
     "name": "stdout",
     "output_type": "stream",
     "text": [
      "num1 is not num2  True\n"
     ]
    }
   ],
   "source": [
    "# IS NOT\n",
    "num1 = 11\n",
    "num2 = 55\n",
    "print(\"num1 is not num2 \", num1 is not num2)"
   ]
  },
  {
   "cell_type": "code",
   "execution_count": 48,
   "id": "fd2619a8-84c1-43f8-942d-113eaf333533",
   "metadata": {},
   "outputs": [
    {
     "name": "stdout",
     "output_type": "stream",
     "text": [
      "num1 is not num2  False\n"
     ]
    }
   ],
   "source": [
    "num1 = 77\n",
    "num2 = 77\n",
    "print(\"num1 is not num2 \", num1 is not num2)"
   ]
  },
  {
   "cell_type": "markdown",
   "id": "0a6c0061-a1e6-44aa-a6cc-b927273ef68e",
   "metadata": {},
   "source": [
    "## Conversion de Tipos"
   ]
  },
  {
   "cell_type": "markdown",
   "id": "21741e88-7111-45e3-9151-bf38822d4b9a",
   "metadata": {},
   "source": [
    "¿Que es la conversion de tipos?\n",
    " - Es el proceso de conversion de un tipo de dato a otro tipo de dato\n",
    " - Es un paso muy importante para combinar multiples fuentes de datos en un formato especifico\n",
    " - Hay 2 tipos:\n",
    "    - Conversion Implicita: hecha de forma automatica por el interprete de python\n",
    "    - Conversion Explicita"
   ]
  },
  {
   "cell_type": "code",
   "execution_count": 57,
   "id": "c4a97d77-2f69-4bcf-a976-2e0193409037",
   "metadata": {},
   "outputs": [
    {
     "data": {
      "text/plain": [
       "16.0"
      ]
     },
     "execution_count": 57,
     "metadata": {},
     "output_type": "execute_result"
    }
   ],
   "source": [
    "# Conversion Implicita\n",
    "14+2.0 # El resultado se convierte en un float ya que se esta sumando un int a un float, sin importar el que, el resultado sera un float"
   ]
  },
  {
   "cell_type": "code",
   "execution_count": 55,
   "id": "eb198239-1910-47e8-8225-cc63748f3687",
   "metadata": {},
   "outputs": [
    {
     "data": {
      "text/plain": [
       "19.0"
      ]
     },
     "execution_count": 55,
     "metadata": {},
     "output_type": "execute_result"
    }
   ],
   "source": [
    "14+2.0+3"
   ]
  },
  {
   "cell_type": "code",
   "execution_count": 61,
   "id": "0a0cb192-3283-42fa-a41f-b8e66f588522",
   "metadata": {},
   "outputs": [
    {
     "data": {
      "text/plain": [
       "199"
      ]
     },
     "execution_count": 61,
     "metadata": {},
     "output_type": "execute_result"
    }
   ],
   "source": [
    "# Conversion Explicita\n",
    "int(199.99) # Se pasa a entero por la funcion int, se quitan los decimales"
   ]
  },
  {
   "cell_type": "code",
   "execution_count": 65,
   "id": "fb259ab0-6ad5-48f0-b98a-6db1056f3d14",
   "metadata": {},
   "outputs": [
    {
     "data": {
      "text/plain": [
       "58.0"
      ]
     },
     "execution_count": 65,
     "metadata": {},
     "output_type": "execute_result"
    }
   ],
   "source": [
    "float(58) # Se pasa a float por la funcion float, se agregan los decimales"
   ]
  },
  {
   "cell_type": "code",
   "execution_count": 69,
   "id": "f9d8dae5-e50e-4e7b-9199-1c4f7726d849",
   "metadata": {},
   "outputs": [
    {
     "data": {
      "text/plain": [
       "(4+0j)"
      ]
     },
     "execution_count": 69,
     "metadata": {},
     "output_type": "execute_result"
    }
   ],
   "source": [
    "complex(4) # se pasa el 4 a notacion de numero complejo"
   ]
  },
  {
   "cell_type": "markdown",
   "id": "9efa476b-8255-4a9c-99ec-28c7841864e9",
   "metadata": {},
   "source": [
    "### Conversion INT"
   ]
  },
  {
   "cell_type": "code",
   "execution_count": 72,
   "id": "7b459456-b633-479f-ba28-f0a085eb1d4f",
   "metadata": {},
   "outputs": [
    {
     "data": {
      "text/plain": [
       "10"
      ]
     },
     "execution_count": 72,
     "metadata": {},
     "output_type": "execute_result"
    }
   ],
   "source": [
    "int(10.78) # float a int"
   ]
  },
  {
   "cell_type": "code",
   "execution_count": 76,
   "id": "3d5bcab7-6d0b-468b-8e8c-a6bbeb8851df",
   "metadata": {},
   "outputs": [
    {
     "data": {
      "text/plain": [
       "0"
      ]
     },
     "execution_count": 76,
     "metadata": {},
     "output_type": "execute_result"
    }
   ],
   "source": [
    "int(False) # bool a int #False = 0"
   ]
  },
  {
   "cell_type": "code",
   "execution_count": 78,
   "id": "65694a5c-d6ac-4100-a53c-01b9a06a4182",
   "metadata": {},
   "outputs": [
    {
     "data": {
      "text/plain": [
       "1"
      ]
     },
     "execution_count": 78,
     "metadata": {},
     "output_type": "execute_result"
    }
   ],
   "source": [
    "int(True) # bool a int # True = 1"
   ]
  },
  {
   "cell_type": "code",
   "execution_count": 80,
   "id": "dc2698e0-1d1b-45cb-9151-72165ba5a8ac",
   "metadata": {},
   "outputs": [
    {
     "ename": "TypeError",
     "evalue": "int() argument must be a string, a bytes-like object or a real number, not 'complex'",
     "output_type": "error",
     "traceback": [
      "\u001b[1;31m---------------------------------------------------------------------------\u001b[0m",
      "\u001b[1;31mTypeError\u001b[0m                                 Traceback (most recent call last)",
      "Cell \u001b[1;32mIn[80], line 2\u001b[0m\n\u001b[0;32m      1\u001b[0m \u001b[38;5;66;03m# Error\u001b[39;00m\n\u001b[1;32m----> 2\u001b[0m \u001b[38;5;28mint\u001b[39m(\u001b[38;5;241m5\u001b[39m\u001b[38;5;241m+\u001b[39m\u001b[38;5;241m3\u001b[39mj)\n",
      "\u001b[1;31mTypeError\u001b[0m: int() argument must be a string, a bytes-like object or a real number, not 'complex'"
     ]
    }
   ],
   "source": [
    "# Error\n",
    "int(5+3j) # complejo a int, no se puede"
   ]
  },
  {
   "cell_type": "code",
   "execution_count": 82,
   "id": "37ec2058-a4b3-49d0-9f76-4c4bcad7a4cd",
   "metadata": {},
   "outputs": [
    {
     "data": {
      "text/plain": [
       "120"
      ]
     },
     "execution_count": 82,
     "metadata": {},
     "output_type": "execute_result"
    }
   ],
   "source": [
    "int(\"120\") # String a int, se podra siempre y cuando la cadena sea un numero"
   ]
  },
  {
   "cell_type": "code",
   "execution_count": 84,
   "id": "a6b49d2d-6868-4d44-81f3-c585fc5c3303",
   "metadata": {},
   "outputs": [
    {
     "ename": "ValueError",
     "evalue": "invalid literal for int() with base 10: '120.5'",
     "output_type": "error",
     "traceback": [
      "\u001b[1;31m---------------------------------------------------------------------------\u001b[0m",
      "\u001b[1;31mValueError\u001b[0m                                Traceback (most recent call last)",
      "Cell \u001b[1;32mIn[84], line 2\u001b[0m\n\u001b[0;32m      1\u001b[0m \u001b[38;5;66;03m# Error\u001b[39;00m\n\u001b[1;32m----> 2\u001b[0m \u001b[38;5;28mint\u001b[39m(\u001b[38;5;124m\"\u001b[39m\u001b[38;5;124m120.5\u001b[39m\u001b[38;5;124m\"\u001b[39m)\n",
      "\u001b[1;31mValueError\u001b[0m: invalid literal for int() with base 10: '120.5'"
     ]
    }
   ],
   "source": [
    "# Error\n",
    "int(\"120.5\") # Da error ya que es un string que viene como float"
   ]
  },
  {
   "cell_type": "markdown",
   "id": "8303b9da-4709-49f8-b94a-cc8f8f99f81a",
   "metadata": {},
   "source": [
    "## Conversion float"
   ]
  },
  {
   "cell_type": "code",
   "execution_count": 88,
   "id": "95c69717-1a78-4509-bafa-b804cb54b491",
   "metadata": {},
   "outputs": [
    {
     "data": {
      "text/plain": [
       "23.0"
      ]
     },
     "execution_count": 88,
     "metadata": {},
     "output_type": "execute_result"
    }
   ],
   "source": [
    "float(23) # int a float"
   ]
  },
  {
   "cell_type": "code",
   "execution_count": 90,
   "id": "5efbaecb-0eea-4e7a-99b2-aa9d100fb6ae",
   "metadata": {},
   "outputs": [
    {
     "ename": "TypeError",
     "evalue": "float() argument must be a string or a real number, not 'complex'",
     "output_type": "error",
     "traceback": [
      "\u001b[1;31m---------------------------------------------------------------------------\u001b[0m",
      "\u001b[1;31mTypeError\u001b[0m                                 Traceback (most recent call last)",
      "Cell \u001b[1;32mIn[90], line 2\u001b[0m\n\u001b[0;32m      1\u001b[0m \u001b[38;5;66;03m# Error\u001b[39;00m\n\u001b[1;32m----> 2\u001b[0m \u001b[38;5;28mfloat\u001b[39m(\u001b[38;5;241m23\u001b[39m\u001b[38;5;241m+\u001b[39m\u001b[38;5;241m3\u001b[39mj)\n",
      "\u001b[1;31mTypeError\u001b[0m: float() argument must be a string or a real number, not 'complex'"
     ]
    }
   ],
   "source": [
    "# Error\n",
    "float(23+3j) # complejo a float"
   ]
  },
  {
   "cell_type": "code",
   "execution_count": 92,
   "id": "6e6580eb-5663-447a-922e-d1f95475f14b",
   "metadata": {},
   "outputs": [
    {
     "data": {
      "text/plain": [
       "1.0"
      ]
     },
     "execution_count": 92,
     "metadata": {},
     "output_type": "execute_result"
    }
   ],
   "source": [
    "float(True) # bool a float "
   ]
  },
  {
   "cell_type": "code",
   "execution_count": 96,
   "id": "5c037728-fa86-4e06-b3e9-f0a15dd49a95",
   "metadata": {},
   "outputs": [
    {
     "data": {
      "text/plain": [
       "843.29"
      ]
     },
     "execution_count": 96,
     "metadata": {},
     "output_type": "execute_result"
    }
   ],
   "source": [
    "float(\"843.29\") # string a float # se puede ya que el numero en el string es un float"
   ]
  },
  {
   "cell_type": "code",
   "execution_count": 100,
   "id": "33a74d8d-34c6-470c-bd1f-0e6ffd851d16",
   "metadata": {},
   "outputs": [
    {
     "data": {
      "text/plain": [
       "843.0"
      ]
     },
     "execution_count": 100,
     "metadata": {},
     "output_type": "execute_result"
    }
   ],
   "source": [
    "float(\"843\") # string a float, igual se puede ya que float maneja enteros y floats"
   ]
  },
  {
   "cell_type": "code",
   "execution_count": 102,
   "id": "7c43c5ad-5a8b-4d54-960a-5e7017c4f4a5",
   "metadata": {},
   "outputs": [
    {
     "ename": "ValueError",
     "evalue": "could not convert string to float: '843t'",
     "output_type": "error",
     "traceback": [
      "\u001b[1;31m---------------------------------------------------------------------------\u001b[0m",
      "\u001b[1;31mValueError\u001b[0m                                Traceback (most recent call last)",
      "Cell \u001b[1;32mIn[102], line 2\u001b[0m\n\u001b[0;32m      1\u001b[0m \u001b[38;5;66;03m# Error\u001b[39;00m\n\u001b[1;32m----> 2\u001b[0m \u001b[38;5;28mfloat\u001b[39m(\u001b[38;5;124m\"\u001b[39m\u001b[38;5;124m843t\u001b[39m\u001b[38;5;124m\"\u001b[39m)\n",
      "\u001b[1;31mValueError\u001b[0m: could not convert string to float: '843t'"
     ]
    }
   ],
   "source": [
    "# Error\n",
    "float(\"843t\") # string a float"
   ]
  },
  {
   "cell_type": "code",
   "execution_count": 106,
   "id": "d0a61a89-cb36-400b-b094-f7bf72d35893",
   "metadata": {},
   "outputs": [
    {
     "ename": "ValueError",
     "evalue": "could not convert string to float: 'True'",
     "output_type": "error",
     "traceback": [
      "\u001b[1;31m---------------------------------------------------------------------------\u001b[0m",
      "\u001b[1;31mValueError\u001b[0m                                Traceback (most recent call last)",
      "Cell \u001b[1;32mIn[106], line 2\u001b[0m\n\u001b[0;32m      1\u001b[0m \u001b[38;5;66;03m# Error\u001b[39;00m\n\u001b[1;32m----> 2\u001b[0m \u001b[38;5;28mfloat\u001b[39m(\u001b[38;5;124m\"\u001b[39m\u001b[38;5;124mTrue\u001b[39m\u001b[38;5;124m\"\u001b[39m)\n",
      "\u001b[1;31mValueError\u001b[0m: could not convert string to float: 'True'"
     ]
    }
   ],
   "source": [
    "# Error\n",
    "float(\"True\") # string a float, da error ya que es un texto y no un numero"
   ]
  },
  {
   "cell_type": "markdown",
   "id": "1efea408-c6dc-427a-be14-aa67214e80f9",
   "metadata": {},
   "source": [
    "### Conversion Complex"
   ]
  },
  {
   "cell_type": "code",
   "execution_count": 109,
   "id": "1178aecf-ded7-4415-88b6-de43e91af0c1",
   "metadata": {},
   "outputs": [
    {
     "data": {
      "text/plain": [
       "(42+0j)"
      ]
     },
     "execution_count": 109,
     "metadata": {},
     "output_type": "execute_result"
    }
   ],
   "source": [
    "complex(42) # int a complex"
   ]
  },
  {
   "cell_type": "code",
   "execution_count": 111,
   "id": "200694f6-ba25-4972-9253-c41c9b751f6a",
   "metadata": {},
   "outputs": [
    {
     "data": {
      "text/plain": [
       "(92.8+0j)"
      ]
     },
     "execution_count": 111,
     "metadata": {},
     "output_type": "execute_result"
    }
   ],
   "source": [
    "complex(92.8) # float a complex"
   ]
  },
  {
   "cell_type": "code",
   "execution_count": 113,
   "id": "9c41e171-beee-48d5-abc8-0a077f662579",
   "metadata": {},
   "outputs": [
    {
     "data": {
      "text/plain": [
       "(1+0j)"
      ]
     },
     "execution_count": 113,
     "metadata": {},
     "output_type": "execute_result"
    }
   ],
   "source": [
    "complex(True) # bool a complex"
   ]
  },
  {
   "cell_type": "code",
   "execution_count": 115,
   "id": "2b04988a-d820-4ed1-9aaf-c7b6cb4f76ee",
   "metadata": {},
   "outputs": [
    {
     "data": {
      "text/plain": [
       "(24+0j)"
      ]
     },
     "execution_count": 115,
     "metadata": {},
     "output_type": "execute_result"
    }
   ],
   "source": [
    "complex(\"24\") # string a complex"
   ]
  },
  {
   "cell_type": "code",
   "execution_count": 117,
   "id": "c6d4073a-afde-4ee4-b5ac-439e35849236",
   "metadata": {},
   "outputs": [
    {
     "data": {
      "text/plain": [
       "(24.67+0j)"
      ]
     },
     "execution_count": 117,
     "metadata": {},
     "output_type": "execute_result"
    }
   ],
   "source": [
    "complex(\"24.67\") # string a complex"
   ]
  },
  {
   "cell_type": "code",
   "execution_count": 121,
   "id": "b1af8b77-4a9d-4a64-952f-705c7a1b8f5b",
   "metadata": {},
   "outputs": [
    {
     "ename": "ValueError",
     "evalue": "complex() arg is a malformed string",
     "output_type": "error",
     "traceback": [
      "\u001b[1;31m---------------------------------------------------------------------------\u001b[0m",
      "\u001b[1;31mValueError\u001b[0m                                Traceback (most recent call last)",
      "Cell \u001b[1;32mIn[121], line 2\u001b[0m\n\u001b[0;32m      1\u001b[0m \u001b[38;5;66;03m# Error\u001b[39;00m\n\u001b[1;32m----> 2\u001b[0m \u001b[38;5;28mcomplex\u001b[39m(\u001b[38;5;124m\"\u001b[39m\u001b[38;5;124mBackend\u001b[39m\u001b[38;5;124m\"\u001b[39m)\n",
      "\u001b[1;31mValueError\u001b[0m: complex() arg is a malformed string"
     ]
    }
   ],
   "source": [
    "# Error\n",
    "complex(\"Backend\") # string a complex, da error ya que no es un numero"
   ]
  },
  {
   "cell_type": "code",
   "execution_count": 123,
   "id": "1a6e1e1a-0f65-40b3-91cb-6b869a57480a",
   "metadata": {},
   "outputs": [
    {
     "ename": "ValueError",
     "evalue": "complex() arg is a malformed string",
     "output_type": "error",
     "traceback": [
      "\u001b[1;31m---------------------------------------------------------------------------\u001b[0m",
      "\u001b[1;31mValueError\u001b[0m                                Traceback (most recent call last)",
      "Cell \u001b[1;32mIn[123], line 2\u001b[0m\n\u001b[0;32m      1\u001b[0m \u001b[38;5;66;03m# Error\u001b[39;00m\n\u001b[1;32m----> 2\u001b[0m \u001b[38;5;28mcomplex\u001b[39m(\u001b[38;5;124m\"\u001b[39m\u001b[38;5;124m10c\u001b[39m\u001b[38;5;124m\"\u001b[39m)\n",
      "\u001b[1;31mValueError\u001b[0m: complex() arg is a malformed string"
     ]
    }
   ],
   "source": [
    "# Error\n",
    "complex(\"10c\") # string a complex"
   ]
  },
  {
   "cell_type": "code",
   "execution_count": 127,
   "id": "14227284-ae19-4444-b38a-23d6caaee6ab",
   "metadata": {},
   "outputs": [
    {
     "data": {
      "text/plain": [
       "10j"
      ]
     },
     "execution_count": 127,
     "metadata": {},
     "output_type": "execute_result"
    }
   ],
   "source": [
    "complex(\"10j\") # string a complex, la unica excepcion es usando la \"j\" ya que se usa en la parte imaginaria de los numeros complejos"
   ]
  },
  {
   "cell_type": "code",
   "execution_count": 129,
   "id": "2d0984e9-9233-46e2-8cd9-f91a30119255",
   "metadata": {},
   "outputs": [
    {
     "ename": "ValueError",
     "evalue": "complex() arg is a malformed string",
     "output_type": "error",
     "traceback": [
      "\u001b[1;31m---------------------------------------------------------------------------\u001b[0m",
      "\u001b[1;31mValueError\u001b[0m                                Traceback (most recent call last)",
      "Cell \u001b[1;32mIn[129], line 2\u001b[0m\n\u001b[0;32m      1\u001b[0m \u001b[38;5;66;03m# Error\u001b[39;00m\n\u001b[1;32m----> 2\u001b[0m \u001b[38;5;28mcomplex\u001b[39m(\u001b[38;5;124m\"\u001b[39m\u001b[38;5;124m10i\u001b[39m\u001b[38;5;124m\"\u001b[39m)\n",
      "\u001b[1;31mValueError\u001b[0m: complex() arg is a malformed string"
     ]
    }
   ],
   "source": [
    "# Error\n",
    "complex(\"10i\") # string a complex"
   ]
  },
  {
   "cell_type": "markdown",
   "id": "8eab2d6a-ce04-4332-a4a6-50e3d3fceba8",
   "metadata": {},
   "source": [
    "### Conversion Bool"
   ]
  },
  {
   "cell_type": "code",
   "execution_count": 132,
   "id": "e5855950-5d28-4e85-b0c8-26f042859606",
   "metadata": {},
   "outputs": [
    {
     "data": {
      "text/plain": [
       "False"
      ]
     },
     "execution_count": 132,
     "metadata": {},
     "output_type": "execute_result"
    }
   ],
   "source": [
    "bool(0) # int a bool"
   ]
  },
  {
   "cell_type": "code",
   "execution_count": 134,
   "id": "29a5c21c-5589-4645-8495-90d5cd3c9076",
   "metadata": {},
   "outputs": [
    {
     "data": {
      "text/plain": [
       "True"
      ]
     },
     "execution_count": 134,
     "metadata": {},
     "output_type": "execute_result"
    }
   ],
   "source": [
    "bool(1) # int a bool"
   ]
  },
  {
   "cell_type": "code",
   "execution_count": 144,
   "id": "ca5ccc22-1333-48a6-ab68-602afdea13da",
   "metadata": {},
   "outputs": [
    {
     "data": {
      "text/plain": [
       "True"
      ]
     },
     "execution_count": 144,
     "metadata": {},
     "output_type": "execute_result"
    }
   ],
   "source": [
    "bool(7) # int a bool, siempre que sea diferente que 0 sera TRUE"
   ]
  },
  {
   "cell_type": "code",
   "execution_count": 140,
   "id": "00c522d1-7313-402d-a9c5-04745b990cdd",
   "metadata": {},
   "outputs": [
    {
     "data": {
      "text/plain": [
       "True"
      ]
     },
     "execution_count": 140,
     "metadata": {},
     "output_type": "execute_result"
    }
   ],
   "source": [
    "bool(1.8) # float a bool"
   ]
  },
  {
   "cell_type": "code",
   "execution_count": 142,
   "id": "8edd8372-e4f2-4c18-97e8-ae528bc771e2",
   "metadata": {},
   "outputs": [
    {
     "data": {
      "text/plain": [
       "True"
      ]
     },
     "execution_count": 142,
     "metadata": {},
     "output_type": "execute_result"
    }
   ],
   "source": [
    "bool(0.2) # float a bool"
   ]
  },
  {
   "cell_type": "code",
   "execution_count": 146,
   "id": "51f26713-8a31-459e-9924-51c5cdff8c15",
   "metadata": {},
   "outputs": [
    {
     "data": {
      "text/plain": [
       "True"
      ]
     },
     "execution_count": 146,
     "metadata": {},
     "output_type": "execute_result"
    }
   ],
   "source": [
    "bool(-1.8) # float a bool"
   ]
  },
  {
   "cell_type": "code",
   "execution_count": 152,
   "id": "10c7cab5-77c7-4fa1-8f70-65f511c58198",
   "metadata": {},
   "outputs": [
    {
     "data": {
      "text/plain": [
       "True"
      ]
     },
     "execution_count": 152,
     "metadata": {},
     "output_type": "execute_result"
    }
   ],
   "source": [
    "bool(0+3j) # complex a bool # Mientras tenga valor diferente a 0 en la parte real o en la imaginaria, sera True"
   ]
  },
  {
   "cell_type": "code",
   "execution_count": 150,
   "id": "8a5cff3c-e876-4665-a9dd-288a6fefd201",
   "metadata": {},
   "outputs": [
    {
     "data": {
      "text/plain": [
       "False"
      ]
     },
     "execution_count": 150,
     "metadata": {},
     "output_type": "execute_result"
    }
   ],
   "source": [
    "bool(0+0j) # complex a bool"
   ]
  },
  {
   "cell_type": "code",
   "execution_count": 156,
   "id": "8d5575d0-87df-47bb-81de-d2704d1fa68a",
   "metadata": {},
   "outputs": [
    {
     "data": {
      "text/plain": [
       "True"
      ]
     },
     "execution_count": 156,
     "metadata": {},
     "output_type": "execute_result"
    }
   ],
   "source": [
    "bool(\"Python\") # string a bool, valida que no sea una cadena vacia, mientras no este vacia sera True"
   ]
  },
  {
   "cell_type": "code",
   "execution_count": 162,
   "id": "bb195385-a4f9-4bb6-8bc3-0e66b3719384",
   "metadata": {},
   "outputs": [
    {
     "data": {
      "text/plain": [
       "True"
      ]
     },
     "execution_count": 162,
     "metadata": {},
     "output_type": "execute_result"
    }
   ],
   "source": [
    "bool(\" \") #string a bool"
   ]
  },
  {
   "cell_type": "code",
   "execution_count": 164,
   "id": "f06f12de-7da8-4c52-982b-82838aa46216",
   "metadata": {},
   "outputs": [
    {
     "data": {
      "text/plain": [
       "False"
      ]
     },
     "execution_count": 164,
     "metadata": {},
     "output_type": "execute_result"
    }
   ],
   "source": [
    "bool(\"\") # string a bool"
   ]
  },
  {
   "cell_type": "code",
   "execution_count": 166,
   "id": "008bc9a8-b3ab-4058-835b-ed988f9d71fd",
   "metadata": {},
   "outputs": [
    {
     "data": {
      "text/plain": [
       "True"
      ]
     },
     "execution_count": 166,
     "metadata": {},
     "output_type": "execute_result"
    }
   ],
   "source": [
    "bool(\"0\") # string a bool, aqui no toma en cuenta el mundo, si no el tipo de dato string y que no este vacia la cadena"
   ]
  },
  {
   "cell_type": "markdown",
   "id": "9e90f1b8-49e1-4177-b510-4cdf583dea2c",
   "metadata": {},
   "source": [
    "### Conversion String"
   ]
  },
  {
   "cell_type": "code",
   "execution_count": 169,
   "id": "957bcd89-2567-431d-aebe-2afc083f0352",
   "metadata": {},
   "outputs": [
    {
     "data": {
      "text/plain": [
       "'25'"
      ]
     },
     "execution_count": 169,
     "metadata": {},
     "output_type": "execute_result"
    }
   ],
   "source": [
    "str(25) # int a string"
   ]
  },
  {
   "cell_type": "code",
   "execution_count": 171,
   "id": "0476c928-a052-462c-88f0-0d60e094b4f5",
   "metadata": {},
   "outputs": [
    {
     "data": {
      "text/plain": [
       "'36.9'"
      ]
     },
     "execution_count": 171,
     "metadata": {},
     "output_type": "execute_result"
    }
   ],
   "source": [
    "str(36.9) # float a string"
   ]
  },
  {
   "cell_type": "code",
   "execution_count": 173,
   "id": "5354dd34-e77c-4de9-b5a2-7e1c23b8ab44",
   "metadata": {},
   "outputs": [
    {
     "data": {
      "text/plain": [
       "'(6+8j)'"
      ]
     },
     "execution_count": 173,
     "metadata": {},
     "output_type": "execute_result"
    }
   ],
   "source": [
    "str(6+8j) # complex a string"
   ]
  },
  {
   "cell_type": "code",
   "execution_count": 177,
   "id": "1a46f2a0-b862-4006-bdd2-7d21b49bdcba",
   "metadata": {},
   "outputs": [
    {
     "data": {
      "text/plain": [
       "'True'"
      ]
     },
     "execution_count": 177,
     "metadata": {},
     "output_type": "execute_result"
    }
   ],
   "source": [
    "str(True) # bool a string"
   ]
  },
  {
   "cell_type": "markdown",
   "id": "b138cd5b-1792-422d-8a25-fd1308719d25",
   "metadata": {},
   "source": [
    "# Funciones Basicas"
   ]
  },
  {
   "cell_type": "markdown",
   "id": "eede6899-3222-4617-a157-8f1185e91278",
   "metadata": {},
   "source": [
    "### trunc()"
   ]
  },
  {
   "cell_type": "code",
   "execution_count": 183,
   "id": "7ca60157-e237-49a6-8851-fc824e5c34cc",
   "metadata": {},
   "outputs": [
    {
     "name": "stdout",
     "output_type": "stream",
     "text": [
      "num1 64.99\n",
      "num2 64.5\n",
      "num3 64.51\n",
      "num4 64.000000001\n"
     ]
    }
   ],
   "source": [
    "num1 = 64.99\n",
    "num2 = 64.5\n",
    "num3 = 64.51\n",
    "num4 = 64.000000001\n",
    "print(\"num1\",num1)\n",
    "print(\"num2\",num2)\n",
    "print(\"num3\",num3)\n",
    "print(\"num4\",num4)"
   ]
  },
  {
   "cell_type": "code",
   "execution_count": 187,
   "id": "bb8a719c-c2bc-4589-92a6-21611f103e81",
   "metadata": {},
   "outputs": [
    {
     "name": "stdout",
     "output_type": "stream",
     "text": [
      "trun(num1) 64\n",
      "num2 64\n",
      "num3 64\n",
      "num4 64\n"
     ]
    }
   ],
   "source": [
    "from math import trunc\n",
    "num1 = 64.99\n",
    "num2 = 64.5\n",
    "num3 = 64.51\n",
    "num4 = 64.000000001\n",
    "print(\"trun(num1)\",trunc(num1))\n",
    "print(\"num2\",trunc(num2))\n",
    "print(\"num3\",trunc(num3))\n",
    "print(\"num4\",trunc(num4))"
   ]
  },
  {
   "cell_type": "markdown",
   "id": "ca2f2d22-2ae5-49bd-832a-0c76c0e7ee00",
   "metadata": {},
   "source": [
    "### round(), ceil() y floor()"
   ]
  },
  {
   "cell_type": "code",
   "execution_count": 192,
   "id": "3bd4d4a8-be85-4f38-a3ac-8d615eb64130",
   "metadata": {},
   "outputs": [
    {
     "name": "stdout",
     "output_type": "stream",
     "text": [
      "round(num1) 65\n",
      "num2 64\n",
      "num3 65\n",
      "num4 64\n"
     ]
    }
   ],
   "source": [
    "# round() , es para redondear, de 0.5 hacia abajo se queda en ese entero, si esta arriba de .51 en adelante se redondea hacia arriba\n",
    "\n",
    "num1 = 64.99\n",
    "num2 = 64.5\n",
    "num3 = 64.51\n",
    "num4 = 64.000000001\n",
    "print(\"round(num1)\",round(num1))\n",
    "print(\"num2\",round(num2))\n",
    "print(\"num3\",round(num3))\n",
    "print(\"num4\",round(num4))"
   ]
  },
  {
   "cell_type": "code",
   "execution_count": 196,
   "id": "1c247884-6f2f-4025-8f5d-903bd29192a9",
   "metadata": {},
   "outputs": [
    {
     "name": "stdout",
     "output_type": "stream",
     "text": [
      "ceil(num1) 65\n",
      "num2 65\n",
      "num3 65\n",
      "num4 65\n"
     ]
    }
   ],
   "source": [
    "# ceil() , redondea siempre hacia arriba, no importa si el decimal esta abajo de .5\n",
    "from math import ceil\n",
    "num1 = 64.99\n",
    "num2 = 64.5\n",
    "num3 = 64.51\n",
    "num4 = 64.000000001\n",
    "print(\"ceil(num1)\",ceil(num1))\n",
    "print(\"num2\",ceil(num2))\n",
    "print(\"num3\",ceil(num3))\n",
    "print(\"num4\",ceil(num4))"
   ]
  },
  {
   "cell_type": "code",
   "execution_count": 198,
   "id": "6f3b7bbe-5660-4b64-aa63-62d8154212e4",
   "metadata": {},
   "outputs": [
    {
     "name": "stdout",
     "output_type": "stream",
     "text": [
      "floor(num1) 64\n",
      "num2 64\n",
      "num3 64\n",
      "num4 64\n"
     ]
    }
   ],
   "source": [
    "# floor() , redondea siempre hacia abajo, no importa si el decimal esta arriba de .5\n",
    "from math import floor\n",
    "num1 = 64.99\n",
    "num2 = 64.5\n",
    "num3 = 64.51\n",
    "num4 = 64.000000001\n",
    "print(\"floor(num1)\",floor(num1))\n",
    "print(\"num2\",floor(num2))\n",
    "print(\"num3\",floor(num3))\n",
    "print(\"num4\",floor(num4))"
   ]
  },
  {
   "cell_type": "markdown",
   "id": "438517d9-1903-4007-b298-c19b06f181b5",
   "metadata": {},
   "source": [
    "## Funcion %"
   ]
  },
  {
   "cell_type": "code",
   "execution_count": 207,
   "id": "75a1c797-0c00-431a-9acd-af64132e52ac",
   "metadata": {},
   "outputs": [
    {
     "name": "stdout",
     "output_type": "stream",
     "text": [
      "num1 65.0\n",
      "num2 64.500\n",
      "num3 64.5100\n",
      "num4 64.00000\n"
     ]
    }
   ],
   "source": [
    "# Se especifica cuantos decimales quieres especificamente en el resultado\n",
    "num1 = 64.99\n",
    "num2 = 64.5\n",
    "num3 = 64.51\n",
    "num4 = 64.000000001\n",
    "print(\"num1\",'%.1f' % num1) # aqui al forzar que tenga un solo decimal, redondeo todo hacia arriba\n",
    "print(\"num2\",'%.3f' %num2)\n",
    "print(\"num3\",'%.4f' %num3)\n",
    "print(\"num4\",'%.5f' %num4)"
   ]
  },
  {
   "cell_type": "markdown",
   "id": "5512e49b-d8c0-43d1-ab00-ffa64c2bab75",
   "metadata": {},
   "source": [
    "## Funcion format()"
   ]
  },
  {
   "cell_type": "code",
   "execution_count": 215,
   "id": "7d39629a-a42a-4f3d-98b1-a7f610f6e321",
   "metadata": {},
   "outputs": [
    {
     "name": "stdout",
     "output_type": "stream",
     "text": [
      "num1 65.0\n",
      "num2 64.500\n",
      "num3 64.5100\n",
      "num4 64.00000\n"
     ]
    }
   ],
   "source": [
    "num1 = 64.99\n",
    "num2 = 64.5\n",
    "num3 = 64.51\n",
    "num4 = 64.000000001\n",
    "print(\"num1\",'{:.1f}'.format(num1))# aqui al forzar que tenga un solo decimal, redondeo todo hacia arriba\n",
    "print(\"num2\",'{:.3f}'.format(num2))\n",
    "print(\"num3\",'{:.4f}'.format(num3))\n",
    "print(\"num4\",'{:.5f}'.format(num4))"
   ]
  },
  {
   "cell_type": "code",
   "execution_count": null,
   "id": "e5acba4d-f12d-4ab8-aa0c-cd62bfcd009d",
   "metadata": {},
   "outputs": [],
   "source": []
  }
 ],
 "metadata": {
  "kernelspec": {
   "display_name": "Python 3 (ipykernel)",
   "language": "python",
   "name": "python3"
  },
  "language_info": {
   "codemirror_mode": {
    "name": "ipython",
    "version": 3
   },
   "file_extension": ".py",
   "mimetype": "text/x-python",
   "name": "python",
   "nbconvert_exporter": "python",
   "pygments_lexer": "ipython3",
   "version": "3.12.4"
  }
 },
 "nbformat": 4,
 "nbformat_minor": 5
}
