{
 "cells": [
  {
   "cell_type": "markdown",
   "id": "8625978d-2760-48f7-a0fe-1d357721a8db",
   "metadata": {},
   "source": [
    "# Operadores y Tipos de Operadores"
   ]
  },
  {
   "cell_type": "markdown",
   "id": "66153d8e-c9ce-4f80-9332-c9b8673e680d",
   "metadata": {},
   "source": [
    "¿Qué son los operadores?\n",
    "- Son un conjunto de simbolos para un lenguaje de programacion\n",
    "- Pueden decirle al compilador o interprete que ejecute ciertas acciones para producir un resultado final\n",
    "- Pueden ser usados para aplicar operaciones en variables o valores\n",
    "- Pueden ser clasificados segun su tipo (aritmeticos, relacionales, de asignacion, logicos, afiliacion y de identidad)"
   ]
  },
  {
   "cell_type": "markdown",
   "id": "66c882fe-3ee9-4342-a486-e6aa7aa3d591",
   "metadata": {},
   "source": [
    "Tipos de Operadores:\n",
    "- Aritmeticos\n",
    "- Relacionales\n",
    "- De Asignacion\n",
    "- Logicos\n",
    "- Aflicacion\n",
    "- De Identidad"
   ]
  },
  {
   "cell_type": "markdown",
   "id": "8ea8ef2f-5707-4e3f-a6db-25af5a8407f5",
   "metadata": {},
   "source": [
    "### Operadores Aritmeticos\n",
    "- \"+\": suma\n",
    "- \"-\": resta\n",
    "- \"*\": multiplicacion\n",
    "- \"/\": Division\n",
    "- \"//\": Division con redondeo hacia abajo\n",
    "- \"**\": Potencia / Exponente"
   ]
  },
  {
   "cell_type": "code",
   "execution_count": 5,
   "id": "3f0bde69-ea8b-4d26-85c7-a4ce4107eb3f",
   "metadata": {},
   "outputs": [
    {
     "name": "stdout",
     "output_type": "stream",
     "text": [
      "El resultado de la suma es:  800\n"
     ]
    }
   ],
   "source": [
    "# \"+\": suma\n",
    "num1 = 500\n",
    "num2 = 300\n",
    "print(\"El resultado de la suma es: \", num1+num2)"
   ]
  },
  {
   "cell_type": "code",
   "execution_count": 7,
   "id": "aa2f5298-bfcb-499a-8139-73d89e29010b",
   "metadata": {},
   "outputs": [
    {
     "name": "stdout",
     "output_type": "stream",
     "text": [
      "El resultado de la suma es:  1100\n"
     ]
    }
   ],
   "source": [
    "num1 = 200\n",
    "num2 = 900\n",
    "print(\"El resultado de la suma es: \", num1+num2)"
   ]
  },
  {
   "cell_type": "code",
   "execution_count": 9,
   "id": "b9e7d832-5ec9-4c45-8a71-0ad3968d6317",
   "metadata": {},
   "outputs": [
    {
     "name": "stdout",
     "output_type": "stream",
     "text": [
      "El resultao de la resta es: 200\n"
     ]
    }
   ],
   "source": [
    "# \"-\": resta\n",
    "num1 = 500\n",
    "num2 = 300\n",
    "print(\"El resultao de la resta es:\", num1-num2)"
   ]
  },
  {
   "cell_type": "code",
   "execution_count": 11,
   "id": "42009cd3-5574-4203-9ac2-f9d50a5eef69",
   "metadata": {},
   "outputs": [
    {
     "name": "stdout",
     "output_type": "stream",
     "text": [
      "El resultao de la resta es: -700\n"
     ]
    }
   ],
   "source": [
    "num1 = 200\n",
    "num2 = 900\n",
    "print(\"El resultao de la resta es:\", num1-num2)"
   ]
  },
  {
   "cell_type": "code",
   "execution_count": 13,
   "id": "74764bf9-041b-4692-9bd8-5df05edafcfa",
   "metadata": {},
   "outputs": [
    {
     "name": "stdout",
     "output_type": "stream",
     "text": [
      "El resultao de la multiplicacion es: 150000\n"
     ]
    }
   ],
   "source": [
    "# \"*\": multiplicacion\n",
    "num1 = 500\n",
    "num2 = 300\n",
    "print(\"El resultao de la multiplicacion es:\", num1*num2)"
   ]
  },
  {
   "cell_type": "code",
   "execution_count": 15,
   "id": "82882318-22c3-44be-9296-e410df25a4f7",
   "metadata": {},
   "outputs": [
    {
     "name": "stdout",
     "output_type": "stream",
     "text": [
      "El resultao de la multiplicacion es: 180000\n"
     ]
    }
   ],
   "source": [
    "num1 = 200\n",
    "num2 = 900\n",
    "print(\"El resultao de la multiplicacion es:\", num1*num2)"
   ]
  },
  {
   "cell_type": "code",
   "execution_count": 17,
   "id": "e226668d-f5cd-4cf8-9121-6ae45f2c99e9",
   "metadata": {},
   "outputs": [
    {
     "name": "stdout",
     "output_type": "stream",
     "text": [
      "El resultao de la division es: 1.6666666666666667\n"
     ]
    }
   ],
   "source": [
    "# \"/\": division\n",
    "num1 = 500\n",
    "num2 = 300\n",
    "print(\"El resultao de la division es:\", num1/num2)"
   ]
  },
  {
   "cell_type": "code",
   "execution_count": 19,
   "id": "bdf06c12-4f9a-4aeb-894b-99904abefc43",
   "metadata": {},
   "outputs": [
    {
     "name": "stdout",
     "output_type": "stream",
     "text": [
      "El resultao de la division es: 0.2222222222222222\n"
     ]
    }
   ],
   "source": [
    "num1 = 200\n",
    "num2 = 900\n",
    "print(\"El resultao de la division es:\", num1/num2)"
   ]
  },
  {
   "cell_type": "code",
   "execution_count": 21,
   "id": "baf977f1-bb4c-4b30-95fe-fc09413a99c0",
   "metadata": {},
   "outputs": [
    {
     "name": "stdout",
     "output_type": "stream",
     "text": [
      "El resultao de la division es: 1\n"
     ]
    }
   ],
   "source": [
    "# \"//\": division con redondeo hacia abajo\n",
    "num1 = 500\n",
    "num2 = 300\n",
    "print(\"El resultao de la division es:\", num1//num2)"
   ]
  },
  {
   "cell_type": "code",
   "execution_count": 23,
   "id": "0c56a735-53cf-4152-9e11-7b5a46a783f2",
   "metadata": {},
   "outputs": [
    {
     "name": "stdout",
     "output_type": "stream",
     "text": [
      "El resultao de la division es: 0\n"
     ]
    }
   ],
   "source": [
    "num1 = 200\n",
    "num2 = 900\n",
    "print(\"El resultao de la division es:\", num1//num2)"
   ]
  },
  {
   "cell_type": "code",
   "execution_count": 25,
   "id": "a3d3a425-cf30-4a5a-869d-6e0e3e2775b0",
   "metadata": {},
   "outputs": [
    {
     "name": "stdout",
     "output_type": "stream",
     "text": [
      "El resultao de la potencia es: 32\n"
     ]
    }
   ],
   "source": [
    "# \"**\": Potencia / Exponente\n",
    "num1 = 2\n",
    "num2 = 5\n",
    "print(\"El resultao de la potencia es:\", num1**num2) # 2*2*2*2*2"
   ]
  },
  {
   "cell_type": "code",
   "execution_count": 27,
   "id": "5f6e0b55-1ac4-4bc0-9bc8-f8401aa5020f",
   "metadata": {},
   "outputs": [
    {
     "name": "stdout",
     "output_type": "stream",
     "text": [
      "El resultao de la potencia es: 27\n"
     ]
    }
   ],
   "source": [
    "num1 = 3\n",
    "num2 = 3\n",
    "print(\"El resultao de la potencia es:\", num1**num2) # 3*3*3"
   ]
  },
  {
   "cell_type": "markdown",
   "id": "1838b4fe-7c96-4a84-ba0b-4b48ad9f52cd",
   "metadata": {},
   "source": [
    "## Operadores Relacionales\n"
   ]
  },
  {
   "cell_type": "markdown",
   "id": "67b45be8-2ae6-40e2-b8ed-9137cf55481d",
   "metadata": {},
   "source": [
    "¿Que son los operadores relacionales?\n",
    " - son tambien conocidos como operadores de comparacion\n",
    " - Regresa un valor booleano (Verdadero o Falso)\n",
    " - En python, son usados para comparar o relacionar los valores\n",
    " - Verdadero/True, es el resultado cuando la condicion es validada\n",
    " - Falso/False, es el resultado cuando la condicion no se cumple\n",
    " - Estos operadores se encargar de las operaciones de comparacion"
   ]
  },
  {
   "cell_type": "markdown",
   "id": "3193a1bd-f194-411b-bd1f-3754dc13aa57",
   "metadata": {},
   "source": [
    "Tipos de Operadores Relacionales\n",
    " - \"==\" : Igual a\n",
    " - \"!=\" : Diferente a\n",
    " - \">\" : Mayor que\n",
    " - \">=\" : Mayor o igual que\n",
    " - \"<\" : Menor que\n",
    " - \"<=\" : Menor o igual que"
   ]
  },
  {
   "cell_type": "code",
   "execution_count": 32,
   "id": "fe981158-da2f-4252-a74e-a22fd0bafc92",
   "metadata": {},
   "outputs": [
    {
     "name": "stdout",
     "output_type": "stream",
     "text": [
      "El resultado de num1 == num2 es:  False\n"
     ]
    }
   ],
   "source": [
    "# \"==\" : Igual a\n",
    "\n",
    "num1 = 570 # asignacion\n",
    "num2 = 420\n",
    "print(\"El resultado de num1 == num2 es: \",num1==num2)"
   ]
  },
  {
   "cell_type": "code",
   "execution_count": 34,
   "id": "3913ce98-2e4e-48af-b717-c6a1d6199d05",
   "metadata": {},
   "outputs": [
    {
     "name": "stdout",
     "output_type": "stream",
     "text": [
      "El resultado de num1 == num2 es:  True\n"
     ]
    }
   ],
   "source": [
    "num1 = 570 # asignacion\n",
    "num2 = 570\n",
    "print(\"El resultado de num1 == num2 es: \",num1==num2)"
   ]
  },
  {
   "cell_type": "code",
   "execution_count": 36,
   "id": "f2f40163-dce0-44d1-aa2a-8c16f4a280ec",
   "metadata": {},
   "outputs": [
    {
     "name": "stdout",
     "output_type": "stream",
     "text": [
      "El resultado de string1 == string2 es : True\n"
     ]
    }
   ],
   "source": [
    "string1 = \"Backend Python\" # Asignacion\n",
    "string2 = \"Backend Python\"\n",
    "print(\"El resultado de string1 == string2 es :\", string1 == string2)"
   ]
  },
  {
   "cell_type": "code",
   "execution_count": 40,
   "id": "26863710-d6ea-4a8d-ba6c-8160e74f584e",
   "metadata": {},
   "outputs": [
    {
     "name": "stdout",
     "output_type": "stream",
     "text": [
      "El resultado de string1 == string2 es : False\n"
     ]
    }
   ],
   "source": [
    "string1 = \"Backend Python\" # Asignacion\n",
    "string2 = \"backend python\"\n",
    "print(\"El resultado de string1 == string2 es :\", string1 == string2)"
   ]
  },
  {
   "cell_type": "code",
   "execution_count": 42,
   "id": "b2a34dd4-1eb2-40e2-a162-73892dde0a1b",
   "metadata": {},
   "outputs": [
    {
     "name": "stdout",
     "output_type": "stream",
     "text": [
      "El resultado de num1 != num2 es:  True\n"
     ]
    }
   ],
   "source": [
    "# \"!=\" : Diferente a\n",
    "num1 = 570 # asignacion\n",
    "num2 = 420\n",
    "print(\"El resultado de num1 != num2 es: \",num1!=num2)"
   ]
  },
  {
   "cell_type": "code",
   "execution_count": 44,
   "id": "4e050592-7e0f-47a2-b083-289230add161",
   "metadata": {},
   "outputs": [
    {
     "name": "stdout",
     "output_type": "stream",
     "text": [
      "El resultado de num1 != num2 es:  False\n"
     ]
    }
   ],
   "source": [
    "num1 = 570 # asignacion\n",
    "num2 = 570\n",
    "print(\"El resultado de num1 != num2 es: \",num1!=num2)"
   ]
  },
  {
   "cell_type": "code",
   "execution_count": 46,
   "id": "fcbe5740-0580-4f07-bfcd-8f3837ee7a2d",
   "metadata": {},
   "outputs": [
    {
     "name": "stdout",
     "output_type": "stream",
     "text": [
      "El resultado de string1 != string2 es : False\n"
     ]
    }
   ],
   "source": [
    "string1 = \"Backend Python\" # Asignacion\n",
    "string2 = \"Backend Python\"\n",
    "print(\"El resultado de string1 != string2 es :\", string1 != string2)"
   ]
  },
  {
   "cell_type": "code",
   "execution_count": 48,
   "id": "75d11fd7-50db-4ab7-bfb2-dbf2ecd01483",
   "metadata": {},
   "outputs": [
    {
     "name": "stdout",
     "output_type": "stream",
     "text": [
      "El resultado de string1 != string2 es : True\n"
     ]
    }
   ],
   "source": [
    "string1 = \"Backend Python\" # Asignacion\n",
    "string2 = \"Backend python\"\n",
    "print(\"El resultado de string1 != string2 es :\", string1 != string2)"
   ]
  },
  {
   "cell_type": "code",
   "execution_count": 50,
   "id": "5d0a292e-35cf-4097-bd14-bc5f7a60ebc3",
   "metadata": {},
   "outputs": [
    {
     "name": "stdout",
     "output_type": "stream",
     "text": [
      "El resultado de num1 > num2 es:  True\n"
     ]
    }
   ],
   "source": [
    "# \">\" : Mayor que\n",
    "num1 = 570 # asignacion\n",
    "num2 = 420\n",
    "print(\"El resultado de num1 > num2 es: \",num1 > num2)"
   ]
  },
  {
   "cell_type": "code",
   "execution_count": 52,
   "id": "d8bbf86c-746b-4040-a4ea-ade62f3e13a2",
   "metadata": {},
   "outputs": [
    {
     "name": "stdout",
     "output_type": "stream",
     "text": [
      "El resultado de num1 > num2 es:  False\n"
     ]
    }
   ],
   "source": [
    "num1 = 570 # asignacion\n",
    "num2 = 570\n",
    "print(\"El resultado de num1 > num2 es: \",num1 > num2)"
   ]
  },
  {
   "cell_type": "code",
   "execution_count": 54,
   "id": "af456703-eeee-40fa-83d5-354b54aa24a7",
   "metadata": {},
   "outputs": [
    {
     "name": "stdout",
     "output_type": "stream",
     "text": [
      "El resultado de num1 > num2 es:  False\n"
     ]
    }
   ],
   "source": [
    "num1 = 570 # asignacion\n",
    "num2 = 890\n",
    "print(\"El resultado de num1 > num2 es: \",num1 > num2)"
   ]
  },
  {
   "cell_type": "code",
   "execution_count": 56,
   "id": "0cb61a53-a137-45c2-838a-001774dcd4c4",
   "metadata": {},
   "outputs": [
    {
     "name": "stdout",
     "output_type": "stream",
     "text": [
      "El resultado de num1 >= num2 es:  True\n"
     ]
    }
   ],
   "source": [
    "# \">=\" : Mayor o igual que\n",
    "num1 = 570 # asignacion\n",
    "num2 = 420\n",
    "print(\"El resultado de num1 >= num2 es: \",num1 >= num2)"
   ]
  },
  {
   "cell_type": "code",
   "execution_count": 58,
   "id": "ebe1bb05-dadd-4cbc-8f82-d5225cf91ad2",
   "metadata": {},
   "outputs": [
    {
     "name": "stdout",
     "output_type": "stream",
     "text": [
      "El resultado de num1 >= num2 es:  True\n"
     ]
    }
   ],
   "source": [
    "num1 = 570 # asignacion\n",
    "num2 = 570\n",
    "print(\"El resultado de num1 >= num2 es: \",num1 >= num2)"
   ]
  },
  {
   "cell_type": "code",
   "execution_count": 60,
   "id": "898ba235-ff8d-4813-bedf-d3189c0b0bd9",
   "metadata": {},
   "outputs": [
    {
     "name": "stdout",
     "output_type": "stream",
     "text": [
      "El resultado de num1 >= num2 es:  False\n"
     ]
    }
   ],
   "source": [
    "num1 = 570 # asignacion\n",
    "num2 = 890\n",
    "print(\"El resultado de num1 >= num2 es: \",num1 >= num2)"
   ]
  },
  {
   "cell_type": "code",
   "execution_count": 62,
   "id": "6e5fc37d-8200-4dc4-b0e0-d1e86a02f25a",
   "metadata": {},
   "outputs": [
    {
     "name": "stdout",
     "output_type": "stream",
     "text": [
      "El resultado de num1 < num2 es:  False\n"
     ]
    }
   ],
   "source": [
    "# \"<\" : Menor que\n",
    "num1 = 570 # asignacion\n",
    "num2 = 420\n",
    "print(\"El resultado de num1 < num2 es: \",num1 < num2)"
   ]
  },
  {
   "cell_type": "code",
   "execution_count": 64,
   "id": "6ad4f238-6c37-447f-ba11-b2525c2b8744",
   "metadata": {},
   "outputs": [
    {
     "name": "stdout",
     "output_type": "stream",
     "text": [
      "El resultado de num1 < num2 es:  False\n"
     ]
    }
   ],
   "source": [
    "num1 = 570 # asignacion\n",
    "num2 = 570\n",
    "print(\"El resultado de num1 < num2 es: \",num1 < num2)"
   ]
  },
  {
   "cell_type": "code",
   "execution_count": 66,
   "id": "792afe0c-e2a1-4f3f-b907-b9abb78d8ad3",
   "metadata": {},
   "outputs": [
    {
     "name": "stdout",
     "output_type": "stream",
     "text": [
      "El resultado de num1 < num2 es:  True\n"
     ]
    }
   ],
   "source": [
    "num1 = 570 # asignacion\n",
    "num2 = 890\n",
    "print(\"El resultado de num1 < num2 es: \",num1 < num2)"
   ]
  },
  {
   "cell_type": "code",
   "execution_count": 68,
   "id": "e2b3eeed-5f45-408f-b6b8-423d265649be",
   "metadata": {},
   "outputs": [
    {
     "name": "stdout",
     "output_type": "stream",
     "text": [
      "El resultado de num1 <= num2 es:  False\n"
     ]
    }
   ],
   "source": [
    "# \"<=\" : menor o igual que\n",
    "num1 = 570 # asignacion\n",
    "num2 = 420\n",
    "print(\"El resultado de num1 <= num2 es: \",num1 <= num2)"
   ]
  },
  {
   "cell_type": "code",
   "execution_count": 70,
   "id": "45948b4f-569e-444e-bf78-a50086157efc",
   "metadata": {},
   "outputs": [
    {
     "name": "stdout",
     "output_type": "stream",
     "text": [
      "El resultado de num1 <=num2 es:  True\n"
     ]
    }
   ],
   "source": [
    "num1 = 570 # asignacion\n",
    "num2 = 570\n",
    "print(\"El resultado de num1 <=num2 es: \",num1 <= num2)"
   ]
  },
  {
   "cell_type": "code",
   "execution_count": 72,
   "id": "d55ba375-b029-4021-beec-7af79f8eb287",
   "metadata": {},
   "outputs": [
    {
     "name": "stdout",
     "output_type": "stream",
     "text": [
      "El resultado de num1 <= num2 es:  True\n"
     ]
    }
   ],
   "source": [
    "num1 = 570 # asignacion\n",
    "num2 = 890\n",
    "print(\"El resultado de num1 <= num2 es: \",num1 <= num2)"
   ]
  },
  {
   "cell_type": "markdown",
   "id": "67f52078-a348-410f-bfb8-b1d90e3c58c7",
   "metadata": {},
   "source": [
    "### Operadores de Asignacion"
   ]
  },
  {
   "cell_type": "markdown",
   "id": "0b0b77ae-3edc-4d24-9982-0841191edd03",
   "metadata": {},
   "source": [
    "¿Que son los operadores de asignacion?\n",
    " - En python son usados para asignar valores a variables\n",
    " - Incluyen al operador de asignacion que es el signo de igual \"=\"\n"
   ]
  },
  {
   "cell_type": "markdown",
   "id": "f239a9ef-ab38-4e37-be34-673e24d2a67c",
   "metadata": {},
   "source": [
    "Tipos de operadores de asignacion: \n",
    "- \"=\" : Operador de asignacion\n",
    "- \"+=\" : sumar y asignar\n",
    "- \"-=\" : restar y asignar\n",
    "- \"*=\" : multiplicar y asignar\n",
    "- \"/=\" : dividir y asignar\n",
    "- \"//=\" : dividir redondeando hacia abajo y asignar\n",
    "- \"%=\" : Modulo y asignar\n",
    "- \"**=\" : Exponente y asignar\n",
    "  "
   ]
  },
  {
   "cell_type": "code",
   "execution_count": 77,
   "id": "e6a98bfc-1acf-4e66-b341-4149c788afe9",
   "metadata": {},
   "outputs": [],
   "source": [
    "# \"=\" : Operador de asignacion\n",
    "num1 = 20\n",
    "num2 = 3"
   ]
  },
  {
   "cell_type": "code",
   "execution_count": 79,
   "id": "32398ce2-a173-442a-9eba-18d9946839df",
   "metadata": {},
   "outputs": [
    {
     "name": "stdout",
     "output_type": "stream",
     "text": [
      "num1 antes de la operacion 20\n",
      "El valor de num1 es:  23\n"
     ]
    }
   ],
   "source": [
    "# \"+=\" : Sumar y asignar\n",
    "num1 = 20\n",
    "num2 = 3\n",
    "print(\"num1 antes de la operacion\",num1)\n",
    "num1 += num2 # num1 = num1 + num2\n",
    "print(\"El valor de num1 es: \",num1)"
   ]
  },
  {
   "cell_type": "code",
   "execution_count": 81,
   "id": "bf5017f6-5a47-4da4-9fdc-ba697be67450",
   "metadata": {},
   "outputs": [
    {
     "name": "stdout",
     "output_type": "stream",
     "text": [
      "num1 antes de la operacion 20\n",
      "El valor de num1 es:  17\n"
     ]
    }
   ],
   "source": [
    "# \"-=\" : restar y asignar\n",
    "num1 = 20\n",
    "num2 = 3\n",
    "print(\"num1 antes de la operacion\",num1)\n",
    "num1 -= num2 # num1 = num1 - num2\n",
    "print(\"El valor de num1 es: \",num1)"
   ]
  },
  {
   "cell_type": "code",
   "execution_count": 83,
   "id": "d12ba4c4-db84-4c85-9ca2-027bea6c39c2",
   "metadata": {},
   "outputs": [
    {
     "name": "stdout",
     "output_type": "stream",
     "text": [
      "num1 antes de la operacion 20\n",
      "El valor de num1 es:  60\n"
     ]
    }
   ],
   "source": [
    "# \"*=\" : multiplicar y asignar\n",
    "num1 = 20\n",
    "num2 = 3\n",
    "print(\"num1 antes de la operacion\",num1)\n",
    "num1 *= num2 # num1 = num1 * num2\n",
    "print(\"El valor de num1 es: \",num1)"
   ]
  },
  {
   "cell_type": "code",
   "execution_count": 85,
   "id": "2dfe3d93-443b-4cc4-a26a-b0282eca04bd",
   "metadata": {},
   "outputs": [
    {
     "name": "stdout",
     "output_type": "stream",
     "text": [
      "num1 antes de la operacion 20\n",
      "El valor de num1 es:  6.666666666666667\n"
     ]
    }
   ],
   "source": [
    "# \"/=\" : dividir y asignar\n",
    "num1 = 20\n",
    "num2 = 3\n",
    "print(\"num1 antes de la operacion\",num1)\n",
    "num1 /= num2 # num1 = num1 / num2\n",
    "print(\"El valor de num1 es: \",num1)"
   ]
  },
  {
   "cell_type": "code",
   "execution_count": 87,
   "id": "a1297873-4a0a-4e0d-834b-6edb6d56c9e7",
   "metadata": {},
   "outputs": [
    {
     "name": "stdout",
     "output_type": "stream",
     "text": [
      "num1 antes de la operacion 20\n",
      "El valor de num1 es:  6\n"
     ]
    }
   ],
   "source": [
    "# \"//=\" : dividir con redondeo hacia abajo y asignar\n",
    "num1 = 20\n",
    "num2 = 3\n",
    "print(\"num1 antes de la operacion\",num1)\n",
    "num1 //= num2 # num1 = num1 // num2\n",
    "print(\"El valor de num1 es: \",num1)"
   ]
  },
  {
   "cell_type": "code",
   "execution_count": 105,
   "id": "e5b93c99-db95-429e-8942-a16ac5a21a0b",
   "metadata": {},
   "outputs": [
    {
     "name": "stdout",
     "output_type": "stream",
     "text": [
      "num1 antes de la operacion 20\n",
      "El valor de num1 es:  2\n"
     ]
    }
   ],
   "source": [
    "# \"%=\" : Modulo y asignar, El numero que queda despues de haber dividido, residuo\n",
    "num1 = 20\n",
    "num2 = 3\n",
    "print(\"num1 antes de la operacion\",num1)\n",
    "num1 %= num2 # num1 = num1 % num2\n",
    "print(\"El valor de num1 es: \",num1)"
   ]
  },
  {
   "cell_type": "code",
   "execution_count": 107,
   "id": "99b4bb5b-feb6-49d1-8f9c-eb1ef2b9a777",
   "metadata": {},
   "outputs": [
    {
     "name": "stdout",
     "output_type": "stream",
     "text": [
      "num1 antes de la operacion 20\n",
      "El valor de num1 es:  8000\n"
     ]
    }
   ],
   "source": [
    "# \"**=\" : Exponente y asignar\n",
    "num1 = 20\n",
    "num2 = 3\n",
    "print(\"num1 antes de la operacion\",num1)\n",
    "num1 **= num2 # num1 = num1 ** num2\n",
    "# 20 * 20 * 20\n",
    "print(\"El valor de num1 es: \",num1)"
   ]
  },
  {
   "cell_type": "markdown",
   "id": "aca5fea7-2fb3-4d28-8b66-c90e7ae65532",
   "metadata": {},
   "source": [
    "### Operadores Logicos"
   ]
  },
  {
   "cell_type": "markdown",
   "id": "932f5560-4c28-4911-97a8-b982453d5c2c",
   "metadata": {},
   "source": [
    "¿Que son los operadores logicos?\n",
    "- son usados principalmente para declaraciones condicionales\n",
    "- Son indicadores estructurales\n",
    "- Tambien se les conoce como conectores logicos\n",
    "- hay 3 tipos de operadores logicos:\n",
    "  - AND (y) - regresa True/Verdadero si ambas operaciones son verdaderos\n",
    "  - OR (o) -  regresa True/Verdadero si por lo menos una de las operaciones es verdadera\n",
    "  - NOT (Lo opuesto) - regresa True/Verdadero si la operacion es False/Falso"
   ]
  },
  {
   "cell_type": "code",
   "execution_count": 111,
   "id": "f3221896-96ca-464f-b0d7-b5617f3dd7a2",
   "metadata": {},
   "outputs": [
    {
     "name": "stdout",
     "output_type": "stream",
     "text": [
      "num1 <= num2 and num1 != num2 True\n"
     ]
    }
   ],
   "source": [
    "# AND (y)\n",
    "# Todas las condiciones deben ser verdaderas\n",
    "num1 = 11\n",
    "num2 = 55\n",
    "# num1 <= num2 : True/Verdadero\n",
    "# num1 != num2 : True/Verdadero\n",
    "print(\"num1 <= num2 and num1 != num2\", num1 <= num2 and num1 != num2)"
   ]
  },
  {
   "cell_type": "code",
   "execution_count": 113,
   "id": "1e749823-095e-493c-a644-f2aee4c4e9bf",
   "metadata": {},
   "outputs": [
    {
     "name": "stdout",
     "output_type": "stream",
     "text": [
      "num1 <= num2 and num1 != num2 False\n"
     ]
    }
   ],
   "source": [
    "num1 = 11\n",
    "num2 = 11\n",
    "# num1 <= num2 : True/Verdadero\n",
    "# num1 != num2 : False/Falso\n",
    "print(\"num1 <= num2 and num1 != num2\", num1 <= num2 and num1 != num2)"
   ]
  },
  {
   "cell_type": "code",
   "execution_count": 115,
   "id": "8aa6e41c-5f23-4607-8285-6b506acd5906",
   "metadata": {},
   "outputs": [
    {
     "name": "stdout",
     "output_type": "stream",
     "text": [
      "num1 <= num2 and num1 != num2 True\n"
     ]
    }
   ],
   "source": [
    "num1 = 11\n",
    "num2 = 55\n",
    "# num1 <= num2 : True/Verdadero\n",
    "# num1 != num2 : True/Verdadero\n",
    "# num1 > 10 : True/Verdadero\n",
    "print(\"num1 <= num2 and num1 != num2\", num1 <= num2 and num1 != num2 and num1 > 10 )"
   ]
  },
  {
   "cell_type": "code",
   "execution_count": 119,
   "id": "ab7d694c-446a-4fed-9a89-97898b07ec35",
   "metadata": {},
   "outputs": [
    {
     "name": "stdout",
     "output_type": "stream",
     "text": [
      "num1 <= num2 and num1 != num2 False\n"
     ]
    }
   ],
   "source": [
    "num1 = 11\n",
    "num2 = 11\n",
    "# num1 <= num2 : True/Verdadero\n",
    "# num1 != num2 : False/Falso\n",
    "# num1 > 10 : True/Verdadero\n",
    "print(\"num1 <= num2 and num1 != num2\", num1 <= num2 and num1 != num2 and num1 > 10 )"
   ]
  },
  {
   "cell_type": "code",
   "execution_count": 123,
   "id": "5a84b1af-5605-43fd-a2f2-67da94058f6f",
   "metadata": {},
   "outputs": [
    {
     "name": "stdout",
     "output_type": "stream",
     "text": [
      "num1 <= num2 and num1 != num2 True\n"
     ]
    }
   ],
   "source": [
    "# OR (o) - con que una de las condiciones se cumpla regresa Tue\n",
    "\n",
    "num1 = 11\n",
    "num2 = 55\n",
    "# num1 <= num2 : True/Verdadero\n",
    "# num1 != num2 : True/Verdadero\n",
    "print(\"num1 <= num2 and num1 != num2\", num1 <= num2 or num1 != num2)"
   ]
  },
  {
   "cell_type": "code",
   "execution_count": 125,
   "id": "83225592-997c-442e-96a9-f298f3cfcf59",
   "metadata": {},
   "outputs": [
    {
     "name": "stdout",
     "output_type": "stream",
     "text": [
      "num1 <= num2 and num1 != num2 True\n"
     ]
    }
   ],
   "source": [
    "num1 = 11\n",
    "num2 = 11\n",
    "# num1 <= num2 : True/Verdadero\n",
    "# num1 != num2 : False/Falso\n",
    "print(\"num1 <= num2 and num1 != num2\", num1 <= num2 or num1 != num2)"
   ]
  },
  {
   "cell_type": "code",
   "execution_count": 129,
   "id": "240e5eb4-b575-4ef6-804b-ff50a46b1701",
   "metadata": {},
   "outputs": [
    {
     "name": "stdout",
     "output_type": "stream",
     "text": [
      "num1 <= num2 and num1 != num2 True\n"
     ]
    }
   ],
   "source": [
    "num1 = 11\n",
    "num2 = 11\n",
    "# num1 <= num2 : True/Verdadero\n",
    "# num1 != num2 : False/Falso\n",
    "# num1 > 10 : True/Verdadero\n",
    "print(\"num1 <= num2 and num1 != num2\", num1 <= num2 or num1 != num2 or num1 > 10 )"
   ]
  },
  {
   "cell_type": "code",
   "execution_count": 131,
   "id": "218069eb-a6de-430e-8fd8-36307e63ed71",
   "metadata": {},
   "outputs": [
    {
     "name": "stdout",
     "output_type": "stream",
     "text": [
      "num1 <= num2 and num1 != num2 True\n"
     ]
    }
   ],
   "source": [
    "num1 = 11\n",
    "num2 = 55\n",
    "# num1 <= num2 : True/Verdadero\n",
    "# num1 != num2 : True/Verdadero\n",
    "# num1 > 10 : True/Verdadero\n",
    "print(\"num1 <= num2 and num1 != num2\", num1 <= num2 or num1 != num2 or num1 > 10 )"
   ]
  },
  {
   "cell_type": "code",
   "execution_count": 137,
   "id": "a75e22ab-ceaf-4609-877f-607d828c2a7e",
   "metadata": {},
   "outputs": [
    {
     "name": "stdout",
     "output_type": "stream",
     "text": [
      "not num1 <= num2 : False\n"
     ]
    }
   ],
   "source": [
    "# NOT (lo opuesto) - \n",
    "# La condicion debe ser false\n",
    "\n",
    "num1 = 11\n",
    "num2 = 55\n",
    "# num1 <= num2: True/Verdadero\n",
    "print(\"not num1 <= num2 :\", not num1 <= num2)"
   ]
  },
  {
   "cell_type": "code",
   "execution_count": 141,
   "id": "07cd640a-befe-4209-b531-3681e89b0ff2",
   "metadata": {},
   "outputs": [
    {
     "name": "stdout",
     "output_type": "stream",
     "text": [
      "not num1 <= num2 : False\n"
     ]
    }
   ],
   "source": [
    "num1 = 11\n",
    "num2 = 55\n",
    "# num1 != num2: True/Verdadero\n",
    "print(\"not num1 <= num2 :\", not num1 != num2)"
   ]
  },
  {
   "cell_type": "code",
   "execution_count": 143,
   "id": "be0dee25-eba4-4f02-8ce2-c14f648da7c0",
   "metadata": {},
   "outputs": [
    {
     "name": "stdout",
     "output_type": "stream",
     "text": [
      "not num1 > num2 : True\n"
     ]
    }
   ],
   "source": [
    "num1 = 11\n",
    "num2 = 55\n",
    "# num1 > num2: True/Verdadero\n",
    "print(\"not num1 > num2 :\", not num1 > num2)"
   ]
  },
  {
   "cell_type": "code",
   "execution_count": null,
   "id": "a250bb33-c642-4244-894a-24325915c955",
   "metadata": {},
   "outputs": [],
   "source": []
  }
 ],
 "metadata": {
  "kernelspec": {
   "display_name": "Python 3 (ipykernel)",
   "language": "python",
   "name": "python3"
  },
  "language_info": {
   "codemirror_mode": {
    "name": "ipython",
    "version": 3
   },
   "file_extension": ".py",
   "mimetype": "text/x-python",
   "name": "python",
   "nbconvert_exporter": "python",
   "pygments_lexer": "ipython3",
   "version": "3.12.4"
  }
 },
 "nbformat": 4,
 "nbformat_minor": 5
}
