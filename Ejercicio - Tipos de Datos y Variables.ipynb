{
 "cells": [
  {
   "cell_type": "code",
   "execution_count": null,
   "id": "f59af8e4-f4d5-445b-945f-63e928c2f684",
   "metadata": {},
   "outputs": [],
   "source": [
    "def suma(a,b):\n",
    "    return a + b\n",
    "\n",
    "def resta(a,b):\n",
    "    return a - b\n",
    "\n",
    "def multiplicacion(a,b):\n",
    "    return a * b\n",
    "\n",
    "def division(a,b):\n",
    "    return a / b\n",
    "\n",
    "def potencia(a,b):\n",
    "    return a**b"
   ]
  },
  {
   "cell_type": "code",
   "execution_count": null,
   "id": "ae8d77b7-97ec-4061-99b4-c86c14eb274e",
   "metadata": {},
   "outputs": [],
   "source": [
    "menu = {\n",
    "    1: \"1- Suma\",\n",
    "    2: \"2- Resta\",\n",
    "    3: \"3- Multiplicacion\",\n",
    "    4: \"4- Division\",\n",
    "    5: \"5- Potencia\",\n",
    "    0: \"0- Salir\"\n",
    "}\n",
    "opcion = 0\n",
    "num1 = int(input(\"Ingresa el Primer Numero: \"))\n",
    "num2 = int(input(\"Ingresa el Segundo Numero: \"))  \n",
    "\n",
    "while True:\n",
    "    print(\"Menu: \")\n",
    "    for i, opcion in menu.items():\n",
    "        print(f\"(i). {opcion}\")\n",
    "        \n",
    "    opcion = int(input(\"Selecciona una opcion: \"))\n",
    "\n",
    "    if opcion == 1:\n",
    "        resultado = suma(num1, num2)\n",
    "        print(\"El resultado de la suma es: \", resultado,\"\\n\")\n",
    "    elif opcion == 2:\n",
    "        resultado = resta(num1, num2)\n",
    "        print(\"El resultado de la resta es: \", resultado,\"\\n\")\n",
    "    elif opcion == 3:\n",
    "        resultado = multiplicacion(num1, num2)\n",
    "        print(\"El resultado de la multiplicacion es: \", resultado,\"\\n\")\n",
    "    elif opcion == 4:\n",
    "        resultado = division(num1, num2)\n",
    "        print(\"El resultado de la division es: \", resultado,\"\\n\")\n",
    "    elif opcion == 5:\n",
    "        resultado = potencia(num1, num2)\n",
    "        print(\"El resultado de la potencia es: \", resultado,\"\\n\")\n",
    "    elif opcion == 0:\n",
    "        print(\"Adios\")\n",
    "        break\n",
    "    else:\n",
    "        print(\"Ingresa una opcion correcta\\n\")"
   ]
  },
  {
   "cell_type": "code",
   "execution_count": null,
   "id": "7c0dba1b-422c-4df5-9acf-e5bb482e3489",
   "metadata": {},
   "outputs": [],
   "source": []
  }
 ],
 "metadata": {
  "kernelspec": {
   "display_name": "Python 3 (ipykernel)",
   "language": "python",
   "name": "python3"
  },
  "language_info": {
   "codemirror_mode": {
    "name": "ipython",
    "version": 3
   },
   "file_extension": ".py",
   "mimetype": "text/x-python",
   "name": "python",
   "nbconvert_exporter": "python",
   "pygments_lexer": "ipython3",
   "version": "3.12.4"
  }
 },
 "nbformat": 4,
 "nbformat_minor": 5
}
