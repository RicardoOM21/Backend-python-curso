{
 "cells": [
  {
   "cell_type": "markdown",
   "id": "680d89a1-e5f1-43ab-b85b-a89ec63acb97",
   "metadata": {},
   "source": [
    "# Ejercicio - Fundamentos"
   ]
  },
  {
   "cell_type": "code",
   "execution_count": 6,
   "id": "47d38da2-bb49-4ab4-a145-8f8bedbfe0cd",
   "metadata": {},
   "outputs": [
    {
     "name": "stdin",
     "output_type": "stream",
     "text": [
      " Ingresa un número entero: 22\n",
      "\n",
      "Ingresa un texto o cadena:  hola buenas\n",
      "\n",
      " Ingresa un número decimal:  2.4\n"
     ]
    },
    {
     "name": "stdout",
     "output_type": "stream",
     "text": [
      "\n",
      "El valor del numero entero es:  22\n",
      "<class 'int'>\n",
      "\n",
      "El texto es:  hola buenas\n",
      "<class 'str'>\n",
      "\n",
      "El valor del numero decimal es:  2.4\n",
      "<class 'float'>\n"
     ]
    }
   ],
   "source": [
    "Entero = eval(input(\" Ingresa un número entero:\" ))\n",
    "String = input (\"\\nIngresa un texto o cadena: \")\n",
    "Float = float(input(\"\\n Ingresa un número decimal: \"))\n",
    "print(\"\\nEl valor del numero entero es: \",Entero)\n",
    "print(type(Entero))\n",
    "print(\"\\nEl texto es: \",String)\n",
    "print(type(String))\n",
    "print(\"\\nEl valor del numero decimal es: \",Float)\n",
    "print(type(Float))"
   ]
  },
  {
   "cell_type": "code",
   "execution_count": null,
   "id": "8defcf0c-21fd-4e62-9e04-e384063f0e6f",
   "metadata": {},
   "outputs": [],
   "source": []
  }
 ],
 "metadata": {
  "kernelspec": {
   "display_name": "Python 3 (ipykernel)",
   "language": "python",
   "name": "python3"
  },
  "language_info": {
   "codemirror_mode": {
    "name": "ipython",
    "version": 3
   },
   "file_extension": ".py",
   "mimetype": "text/x-python",
   "name": "python",
   "nbconvert_exporter": "python",
   "pygments_lexer": "ipython3",
   "version": "3.12.4"
  }
 },
 "nbformat": 4,
 "nbformat_minor": 5
}
