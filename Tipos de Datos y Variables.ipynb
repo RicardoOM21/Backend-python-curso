{
 "cells": [
  {
   "cell_type": "markdown",
   "id": "7958c8cc-3132-4384-bced-ba2971d4a4d3",
   "metadata": {},
   "source": [
    "# Panorama\n",
    "## int - Integer / Enteros\n",
    "## float - Float / Decimales\n",
    "## complex - complex / complejos (Numeros con parte real y parte imaginaria)\n",
    "## bool - Booleanos / Valor logico (True/False)\n",
    "## string - String / Cadena - Texto"
   ]
  },
  {
   "cell_type": "markdown",
   "id": "3161543c-ea98-4cc8-9f2c-8c322c4e7b64",
   "metadata": {},
   "source": [
    "# int - Integer / Enteros"
   ]
  },
  {
   "cell_type": "code",
   "execution_count": null,
   "id": "40cff456-0d89-4cc9-97aa-1f843325c3a5",
   "metadata": {},
   "outputs": [],
   "source": [
    "integer = 11\n",
    "print(\"El valor de integer es: \",integer)\n",
    "print(\"El tipo de dato de integer es: \", type(integer))"
   ]
  },
  {
   "cell_type": "code",
   "execution_count": null,
   "id": "33c1fd03-4ff8-44bf-9f56-ab71ee66cd67",
   "metadata": {},
   "outputs": [],
   "source": [
    "integer = 2022\n",
    "print(\"El valor de integer es: \",integer)\n",
    "print(\"El tipo de dato de integer es: \", type(integer))"
   ]
  },
  {
   "cell_type": "code",
   "execution_count": null,
   "id": "1c554a13-e45c-400e-847f-530769137692",
   "metadata": {},
   "outputs": [],
   "source": [
    "integer = 57831\n",
    "print(\"El valor de integer es: \",integer)\n",
    "print(\"El tipo de dato de integer es: \", type(integer))"
   ]
  },
  {
   "cell_type": "code",
   "execution_count": null,
   "id": "4fdc0815-b9b4-4b14-804e-94e3fdab8b3d",
   "metadata": {},
   "outputs": [],
   "source": [
    "# Error\n",
    "integer = 57831d\n",
    "print(\"El valor de integer es: \",integer)\n",
    "print(\"El tipo de dato de integer es: \", type(integer))"
   ]
  },
  {
   "cell_type": "code",
   "execution_count": null,
   "id": "99e8e83f-56bc-4fc8-bcb9-a5900420f020",
   "metadata": {},
   "outputs": [],
   "source": [
    "# Error\n",
    "integer = 57831@\n",
    "print(\"El valor de integer es: \",integer)\n",
    "print(\"El tipo de dato de integer es: \", type(integer))"
   ]
  },
  {
   "cell_type": "markdown",
   "id": "cc70490c-2044-4401-b56e-59e61e6390ae",
   "metadata": {},
   "source": [
    "# float - Float / Decimales"
   ]
  },
  {
   "cell_type": "code",
   "execution_count": null,
   "id": "11f7e24e-1cff-4a0d-a772-0b0f146a45c5",
   "metadata": {},
   "outputs": [],
   "source": [
    "float = 11.1\n",
    "print(\"El valor de float es: \", float)\n",
    "print(\"El tipo de dato de float es: \",type(float))"
   ]
  },
  {
   "cell_type": "code",
   "execution_count": null,
   "id": "ea5aa097-4f0d-4a85-a497-349376610b62",
   "metadata": {},
   "outputs": [],
   "source": [
    "float = 11.0\n",
    "print(\"El valor de float es: \", float)\n",
    "print(\"El tipo de dato de float es: \",type(float))"
   ]
  },
  {
   "cell_type": "code",
   "execution_count": null,
   "id": "6a31a411-aabb-4232-a726-aa03b6c38cfb",
   "metadata": {},
   "outputs": [],
   "source": [
    "# Error\n",
    "float = 11.1h\n",
    "print(\"El valor de float es: \", float)\n",
    "print(\"El tipo de dato de float es: \",type(float))"
   ]
  },
  {
   "cell_type": "code",
   "execution_count": null,
   "id": "70e997ee-e668-4588-8aa7-cd01290aea01",
   "metadata": {},
   "outputs": [],
   "source": [
    "# Notacion cientifica\n",
    "float = 2e3   # 2.0*10**3\n",
    "print(\"El valor de float es: \", float)\n",
    "print(\"El tipo de dato de float es: \",type(float))"
   ]
  },
  {
   "cell_type": "code",
   "execution_count": null,
   "id": "9c4ed121-8408-48e5-8586-3eaedc562a20",
   "metadata": {},
   "outputs": [],
   "source": [
    "1.1e0 # 1.1 * 10**0"
   ]
  },
  {
   "cell_type": "code",
   "execution_count": null,
   "id": "fcbbe875-051f-44eb-a810-03d464c47725",
   "metadata": {},
   "outputs": [],
   "source": [
    "1.1e1 # 1.1 * 10**1"
   ]
  },
  {
   "cell_type": "code",
   "execution_count": null,
   "id": "5ee543e9-c2c8-4e2f-a884-d1a5908ac23c",
   "metadata": {},
   "outputs": [],
   "source": [
    "1.1e2 # 1.1 * 10**2"
   ]
  },
  {
   "cell_type": "code",
   "execution_count": null,
   "id": "856e4b58-54f8-4e0a-9ee3-6004aaf32d7e",
   "metadata": {},
   "outputs": [],
   "source": [
    "1.1e3 # 1.1 * 10**3"
   ]
  },
  {
   "cell_type": "code",
   "execution_count": null,
   "id": "92626dfa-7fa5-405d-8c00-d494406690d3",
   "metadata": {},
   "outputs": [],
   "source": [
    "8e-2 # 8 * 10**-2"
   ]
  },
  {
   "cell_type": "markdown",
   "id": "19ef50df-44de-41fd-b9a0-6a405657915d",
   "metadata": {},
   "source": [
    "# complex - complex / complejos (Numeros con parte real y parte imaginaria)\n",
    "\n",
    "complex = x + yj\n",
    "\n",
    "x = Parte Real\n",
    "\n",
    "yj = Parte Imaginaria"
   ]
  },
  {
   "cell_type": "code",
   "execution_count": null,
   "id": "caa47fa0-207f-48bd-8a9a-ea7320e4d7ff",
   "metadata": {},
   "outputs": [],
   "source": [
    "complex = 3 + 9j\n",
    "print(\"El valor de complex es: \", complex)\n",
    "print(\"El tipo de dato de complex es: \",type(complex))"
   ]
  },
  {
   "cell_type": "code",
   "execution_count": null,
   "id": "3dfb842f-6c28-46f7-8496-a4014c9f2966",
   "metadata": {},
   "outputs": [],
   "source": [
    "complex = 2 + 5j\n",
    "print(\"El valor de complex es: \", complex)\n",
    "print(\"El tipo de dato de complex es: \",type(complex))"
   ]
  },
  {
   "cell_type": "markdown",
   "id": "cb1c5ffa-d61c-4b90-845a-b8f96e068efe",
   "metadata": {},
   "source": [
    "# bool - Booleanos / Valor logico (True/False)"
   ]
  },
  {
   "cell_type": "code",
   "execution_count": null,
   "id": "01c32f2d-b2cd-4e36-b88b-8251677bd02c",
   "metadata": {},
   "outputs": [],
   "source": [
    "bool = False      # Caracteres booleanos son con la \"T\" y la \"F\" mayusculas\n",
    "print(\"El valor de bool es: \", bool)\n",
    "print(\"El tipo de dato de bool es: \",type(bool))"
   ]
  },
  {
   "cell_type": "code",
   "execution_count": null,
   "id": "77b06d25-e18b-48c9-b76d-29fcd9c27b46",
   "metadata": {},
   "outputs": [],
   "source": [
    "bool = True     # Caracteres booleanos son con la \"T\" y la \"F\" mayusculas\n",
    "print(\"El valor de bool es: \", bool)\n",
    "print(\"El tipo de dato de bool es: \",type(bool))"
   ]
  },
  {
   "cell_type": "code",
   "execution_count": null,
   "id": "aed91315-15b3-491a-9998-64ab1eb39c9c",
   "metadata": {},
   "outputs": [],
   "source": [
    "# True = 1\n",
    "# False = 0"
   ]
  },
  {
   "cell_type": "code",
   "execution_count": null,
   "id": "6ae8013e-c69f-498c-9022-5dfb1b2b116a",
   "metadata": {},
   "outputs": [],
   "source": [
    "# 3\n",
    "print(True+True+True)"
   ]
  },
  {
   "cell_type": "code",
   "execution_count": null,
   "id": "9485771f-8ed6-4527-b3fb-b35606cd9bc3",
   "metadata": {},
   "outputs": [],
   "source": [
    "# 2\n",
    "print(True+True-False)"
   ]
  },
  {
   "cell_type": "code",
   "execution_count": null,
   "id": "5e31091d-2b7a-4ee9-a0c4-e26ef617f93a",
   "metadata": {},
   "outputs": [],
   "source": [
    "# 0\n",
    "print(False+False+False)"
   ]
  },
  {
   "cell_type": "code",
   "execution_count": null,
   "id": "b4a7312e-dd38-4314-9cde-64911dc56851",
   "metadata": {},
   "outputs": [],
   "source": [
    "# 1\n",
    "print(True-True+True)"
   ]
  },
  {
   "cell_type": "code",
   "execution_count": null,
   "id": "a78692b7-eaa2-4ecf-a206-bf421ddfaba1",
   "metadata": {},
   "outputs": [],
   "source": [
    "# -2\n",
    "print(False-True-True)"
   ]
  },
  {
   "cell_type": "markdown",
   "id": "4142778f-3d05-42b8-98be-865cd5ef10d0",
   "metadata": {},
   "source": [
    "# string - String / Cadena - Texto"
   ]
  },
  {
   "cell_type": "code",
   "execution_count": null,
   "id": "dbe10aec-8d1f-4c29-8a93-b12aa2f06fd2",
   "metadata": {},
   "outputs": [],
   "source": [
    "string = \"Hola Amigos\"\n",
    "print(\"El valor de string es: \", string)\n",
    "print(\"El tipo de dato de string es: \",type(string))"
   ]
  },
  {
   "cell_type": "code",
   "execution_count": null,
   "id": "4d744127-62d4-4511-b6cb-ab18dab7e39f",
   "metadata": {},
   "outputs": [],
   "source": [
    "string = \"Curso de Ebac\"\n",
    "print(\"El valor de string es: \", string)\n",
    "print(\"El tipo de dato de string es: \",type(string))"
   ]
  },
  {
   "cell_type": "code",
   "execution_count": null,
   "id": "a2589388-bcc8-4c39-bf6a-0f4e6d9b5569",
   "metadata": {},
   "outputs": [],
   "source": [
    "string = \"Aprendiendo a usar string/cadenas/textos\"\n",
    "print(\"El valor de string es: \", string)\n",
    "print(\"El tipo de dato de string es: \",type(string))"
   ]
  },
  {
   "cell_type": "code",
   "execution_count": null,
   "id": "f1d99e37-e2cf-49f4-aa0e-286585c3db17",
   "metadata": {},
   "outputs": [],
   "source": [
    "string = 'You're amazing'\n",
    "print(\"El valor de string es: \", string)\n",
    "print(\"El tipo de dato de string es: \",type(string))"
   ]
  },
  {
   "cell_type": "code",
   "execution_count": null,
   "id": "8560b882-79b6-4059-bbab-54523633156d",
   "metadata": {},
   "outputs": [],
   "source": [
    "string = \"\"\"\n",
    "Cadena con multiples lineas\\n\n",
    "Como puedes ver es genial para textos mas largos\\n\n",
    "¿Puedes imaginar cuantas cosas podrias hacer manejando texto de internet?\n",
    "\"\"\"\n",
    "print(\"El valor de string es: \", string)\n",
    "print(\"El tipo de dato de string es: \",type(string))"
   ]
  },
  {
   "cell_type": "markdown",
   "id": "e81bd427-a34d-4720-8181-cd6228f6a0d1",
   "metadata": {},
   "source": [
    "# Variables\n",
    "\n",
    "### ¿Qué es una variable?\n",
    " - Son un espacio temporal para guardar un valor con un nombre especifico\n",
    " - No hay necesidad de declarar el tipo de dato explicitamente\n",
    " - Python es un lehuaje tipado dinamicamente, lo que quiere decir que el tipo de dato se define mientras corre el programa\n",
    " - Las variables en python funcionan diferente que en otros lenguajes de programacion\n",
    " - No necesitamos crear variables, solo asignamos un nombre a un valor usando el operador de asignacion\n",
    "\n",
    "\n",
    "### Tipos de variables: \n",
    " - Variables Globales: Aquellas que se utilizaran para todo el programa\n",
    " - Variables Locales: Aquellas que se utilizaran solo en un bloque especifico"
   ]
  },
  {
   "cell_type": "markdown",
   "id": "391b3081-f68b-47e8-879e-8c3d73749a6a",
   "metadata": {},
   "source": [
    "# Variables Globales\n",
    " - Declaramos variables globales afuera de funciones\n",
    " - El valor de las variables puede ser constante para todo el programa\n",
    " - Cualquier funcion podra acceder a estas variables\n",
    " - Podemos decir que las variables globales tienen un alcance global\n",
    " - Normalmente son mas usadas para constantes\n",
    " - Las variables globales mantienen sus valores a traves de la ejecucion completa de tu programa\n",
    " - Una variable global puede ser accesada por cualquier funcion"
   ]
  },
  {
   "cell_type": "code",
   "execution_count": null,
   "id": "63eff360-0213-4de0-904e-999d8426aa1d",
   "metadata": {},
   "outputs": [],
   "source": [
    "# Variable Global\n",
    "var = 50\n",
    "\n",
    "def function1():\n",
    "    pass\n",
    "    \n",
    "def function2():\n",
    "    pass"
   ]
  },
  {
   "cell_type": "code",
   "execution_count": null,
   "id": "70c9451e-0e57-44c0-a8f5-602610454ef1",
   "metadata": {},
   "outputs": [],
   "source": [
    "# Variables Locales\n",
    "def function1():\n",
    "    var = 5\n",
    "      \n",
    "def function2():\n",
    "    var = 35\n",
    "    "
   ]
  },
  {
   "cell_type": "code",
   "execution_count": null,
   "id": "efb1b561-af4e-4321-9293-966334be8448",
   "metadata": {},
   "outputs": [],
   "source": [
    "# Variable Global\n",
    "var = 50\n",
    "\n",
    "def function1():\n",
    "    print(\"function1 - El valor de var es: \", var)\n",
    "    \n",
    "def function2():\n",
    "    print(\"function2 - El valor de var es: \", var)"
   ]
  },
  {
   "cell_type": "code",
   "execution_count": null,
   "id": "bb6ac5d2-c4ad-421b-8b4f-29a79a6a6351",
   "metadata": {},
   "outputs": [],
   "source": [
    "function1()"
   ]
  },
  {
   "cell_type": "code",
   "execution_count": null,
   "id": "6eba3bba-4ff0-4db1-92e1-2439ad616fdc",
   "metadata": {},
   "outputs": [],
   "source": [
    "function2()"
   ]
  },
  {
   "cell_type": "code",
   "execution_count": null,
   "id": "0352c5ba-ab2b-4fa5-8b8c-1d43f7f0b92a",
   "metadata": {},
   "outputs": [],
   "source": [
    "# Preferencia al valor local y despues al global\n",
    "var = 50 # Global\n",
    "\n",
    "def function1():\n",
    "    var = 10 # Local\n",
    "    print(\"function1 - El valor de var es: \", var)\n",
    "    \n",
    "def function2():\n",
    "    var = 20 # Local\n",
    "    print(\"function2 - El valor de var es: \", var)\n",
    "\n",
    "def function3():\n",
    "    print(\"function2 - El valor de var es: \", var)"
   ]
  },
  {
   "cell_type": "code",
   "execution_count": null,
   "id": "b015dc23-774b-4f31-9644-37259cb2b31c",
   "metadata": {},
   "outputs": [],
   "source": [
    "function1()\n",
    "function2()\n",
    "function3()"
   ]
  },
  {
   "cell_type": "markdown",
   "id": "76ea906b-02e1-455a-8d76-d103614502ce",
   "metadata": {},
   "source": [
    "# Variables Locales\n",
    " - Podemos usarlas dentro de una funcion\n",
    " - Podemos tener una restriccion al acceder a una variable local desde otra funcion\n",
    " - No podemos usarlas durante todo el programa\n",
    " - El alcance y visibilidad se limita al interior de la funcion\n",
    " - Lo que dure la funcion sera lo que dure el alcance de nuestra variable"
   ]
  },
  {
   "cell_type": "code",
   "execution_count": null,
   "id": "e69df67f-f679-402a-8b49-5b33fcfb7576",
   "metadata": {},
   "outputs": [],
   "source": [
    "# Variables Locales\n",
    "def function1():\n",
    "    var = 5\n",
    "      \n",
    "def function2():\n",
    "    var = 35\n",
    "    "
   ]
  },
  {
   "cell_type": "code",
   "execution_count": null,
   "id": "870b8215-3870-4442-bfda-357b2d0f96ec",
   "metadata": {},
   "outputs": [],
   "source": [
    "def function1():\n",
    "    pass\n",
    "    \n",
    "def function2():\n",
    "    pass\n"
   ]
  },
  {
   "cell_type": "code",
   "execution_count": null,
   "id": "adcfa8c8-ba9a-4db6-b45a-376e6861fb57",
   "metadata": {},
   "outputs": [],
   "source": [
    "def function1():\n",
    "    var = 10 # Local\n",
    "    print(\"function1 - El valor de var es: \", var)\n",
    "    \n",
    "def function2():\n",
    "    var = 20 # Local\n",
    "    print(\"function2 - El valor de var es: \", var)\n",
    "\n",
    "def function3():\n",
    "    print(\"function2 - El valor de var es: \", var)"
   ]
  },
  {
   "cell_type": "code",
   "execution_count": null,
   "id": "702449ed-a51d-4d45-b847-52de99f45751",
   "metadata": {},
   "outputs": [],
   "source": [
    "function1()\n",
    "function2()\n",
    "# El tercero manda error ya que no hay variable local definida\n",
    "function3()"
   ]
  },
  {
   "cell_type": "markdown",
   "id": "8b4af6ba-eb44-49ad-abb9-0cc61ecd4c78",
   "metadata": {},
   "source": [
    "# Palabra reservada \"global\""
   ]
  },
  {
   "cell_type": "code",
   "execution_count": null,
   "id": "6c3b4e66-0b18-4a5f-9a07-8c63f8220c6b",
   "metadata": {},
   "outputs": [],
   "source": [
    "def function1():\n",
    "    var = 10 # Local\n",
    "    print(\"function1 - El valor de var es: \", var)\n",
    "    \n",
    "def function2():\n",
    "    global var # al poner esta keyword hace la variable global\n",
    "    var = 20 \n",
    "    print(\"function2 - El valor de var es: \", var)\n",
    "\n",
    "def function3(): # con la variable hecha global esto ya no da error\n",
    "    print(\"function2 - El valor de var es: \", var)"
   ]
  },
  {
   "cell_type": "code",
   "execution_count": null,
   "id": "4fb5c533-e9b7-4dae-8065-19a4ad05f750",
   "metadata": {},
   "outputs": [],
   "source": [
    "function1()\n",
    "function2()\n",
    "function3()"
   ]
  },
  {
   "cell_type": "code",
   "execution_count": 1,
   "id": "4af99be0-086c-44d1-bb94-5a926724532e",
   "metadata": {},
   "outputs": [],
   "source": [
    "def function1():\n",
    "    var = 10 # Local\n",
    "    print(\"function1 - El valor de var es: \", var)\n",
    "    \n",
    "def function2():\n",
    "    global a, b, c, d, e # al poner esta keyword hace la variable global\n",
    "    a=10\n",
    "    b=20\n",
    "    c=30\n",
    "    d=40\n",
    "    e=50\n",
    "    print(\"function2 - El valor de a es: \", a)\n",
    "    print(\"function2 - El valor de b es: \", b)\n",
    "    print(\"function2 - El valor de c es: \", c)\n",
    "    print(\"function2 - El valor de d es: \", d)\n",
    "    print(\"function2 - El valor de e es: \", e)\n",
    "\n",
    "def function3(): # con la variable hecha global esto ya no da error\n",
    "    print(\"function3 - El valor de a es: \", a)\n",
    "    print(\"function3 - El valor de b es: \", b)\n",
    "    print(\"function3 - El valor de c es: \", c)\n",
    "    print(\"function3 - El valor de d es: \", d)\n",
    "    print(\"function3 - El valor de e es: \", e)"
   ]
  },
  {
   "cell_type": "code",
   "execution_count": 3,
   "id": "cea2744c-dd21-40d9-9097-d8199cf1d723",
   "metadata": {},
   "outputs": [
    {
     "name": "stdout",
     "output_type": "stream",
     "text": [
      "function1 - El valor de var es:  10\n",
      "function2 - El valor de a es:  10\n",
      "function2 - El valor de b es:  20\n",
      "function2 - El valor de c es:  30\n",
      "function2 - El valor de d es:  40\n",
      "function2 - El valor de e es:  50\n",
      "function3 - El valor de a es:  10\n",
      "function3 - El valor de b es:  20\n",
      "function3 - El valor de c es:  30\n",
      "function3 - El valor de d es:  40\n",
      "function3 - El valor de e es:  50\n"
     ]
    }
   ],
   "source": [
    "function1()\n",
    "function2()\n",
    "function3()"
   ]
  },
  {
   "cell_type": "markdown",
   "id": "838da043-f6ce-47b7-8885-468e2f905a34",
   "metadata": {},
   "source": [
    "# Tipos de Enteros\n",
    " - Forma Decimal\n",
    " - Forma Binaria\n",
    " - Forma Octal\n",
    " - Forma Hexadecimal"
   ]
  },
  {
   "cell_type": "markdown",
   "id": "0053aab9-84ce-41b9-99d2-55c445daadb9",
   "metadata": {},
   "source": [
    "# Forma Decimal"
   ]
  },
  {
   "cell_type": "code",
   "execution_count": 7,
   "id": "64e1c979-f772-4e90-bbf4-f5b34ae6f7b2",
   "metadata": {},
   "outputs": [
    {
     "name": "stdout",
     "output_type": "stream",
     "text": [
      "El valor de decimal es:  55\n"
     ]
    }
   ],
   "source": [
    "decimal = 55\n",
    "print(\"El valor de decimal es: \", decimal)"
   ]
  },
  {
   "cell_type": "code",
   "execution_count": 9,
   "id": "1cbac34b-8ca1-4190-81e5-7afbf3d1d703",
   "metadata": {},
   "outputs": [
    {
     "name": "stdout",
     "output_type": "stream",
     "text": [
      "El valor de decimal es:  521321312\n"
     ]
    }
   ],
   "source": [
    "decimal = 521321312\n",
    "print(\"El valor de decimal es: \", decimal)"
   ]
  },
  {
   "cell_type": "code",
   "execution_count": 11,
   "id": "4ece7a1c-1977-48f8-bbc2-689096272edf",
   "metadata": {},
   "outputs": [
    {
     "ename": "SyntaxError",
     "evalue": "invalid decimal literal (3918789479.py, line 2)",
     "output_type": "error",
     "traceback": [
      "\u001b[1;36m  Cell \u001b[1;32mIn[11], line 2\u001b[1;36m\u001b[0m\n\u001b[1;33m    decimal = 55d\u001b[0m\n\u001b[1;37m               ^\u001b[0m\n\u001b[1;31mSyntaxError\u001b[0m\u001b[1;31m:\u001b[0m invalid decimal literal\n"
     ]
    }
   ],
   "source": [
    "# Error\n",
    "decimal = 55d\n",
    "print(\"El valor de decimal es: \", decimal)"
   ]
  },
  {
   "cell_type": "code",
   "execution_count": 13,
   "id": "a3b3c19e-88a6-4318-a9d9-f18f1695c561",
   "metadata": {},
   "outputs": [
    {
     "ename": "SyntaxError",
     "evalue": "invalid syntax (1363487428.py, line 2)",
     "output_type": "error",
     "traceback": [
      "\u001b[1;36m  Cell \u001b[1;32mIn[13], line 2\u001b[1;36m\u001b[0m\n\u001b[1;33m    decimal = 55@\u001b[0m\n\u001b[1;37m                 ^\u001b[0m\n\u001b[1;31mSyntaxError\u001b[0m\u001b[1;31m:\u001b[0m invalid syntax\n"
     ]
    }
   ],
   "source": [
    "# Error\n",
    "decimal = 55@\n",
    "print(\"El valor de decimal es: \", decimal)"
   ]
  },
  {
   "cell_type": "markdown",
   "id": "bece865d-d6fd-4143-921c-c8df0d592f3f",
   "metadata": {},
   "source": [
    "# Forma Binaria\n",
    " - Codigo organizado en bytes\n",
    " - Lenguaje Binario\n",
    " - Lenguaje de las maquinas (1 y 0)\n",
    "\n",
    "### Valor base: 2\n",
    "\n",
    " - Solamente acepta dos digitos (1 y 0)\n",
    " - Usamos el prefijo '0b' o '0B'"
   ]
  },
  {
   "cell_type": "code",
   "execution_count": null,
   "id": "150c4536-531c-4be8-83c4-27284a971c22",
   "metadata": {},
   "outputs": [],
   "source": [
    "decimal = 11\n",
    "print(\"El valor de decimal es: \", decimal)"
   ]
  },
  {
   "cell_type": "code",
   "execution_count": 18,
   "id": "2daf9485-9743-4341-af37-e266ec9db95d",
   "metadata": {},
   "outputs": [
    {
     "name": "stdout",
     "output_type": "stream",
     "text": [
      "El valor de bin es:  3\n"
     ]
    }
   ],
   "source": [
    "bin = 0b11 # 1*2**1 + 1*2**0\n",
    "print(\"El valor de bin es: \", bin)"
   ]
  },
  {
   "cell_type": "code",
   "execution_count": 20,
   "id": "2e3e68bf-7243-4ebf-8bdc-cf0359c140d6",
   "metadata": {},
   "outputs": [
    {
     "name": "stdout",
     "output_type": "stream",
     "text": [
      "El valor de decimal es:  111\n"
     ]
    }
   ],
   "source": [
    "decimal = 111\n",
    "print(\"El valor de decimal es: \", decimal)"
   ]
  },
  {
   "cell_type": "code",
   "execution_count": 22,
   "id": "dbec1101-ebb6-4da8-b410-f02dce5ad7a8",
   "metadata": {},
   "outputs": [
    {
     "name": "stdout",
     "output_type": "stream",
     "text": [
      "El valor de bin es:  7\n"
     ]
    }
   ],
   "source": [
    "bin = 0B111 # 1*2**2 + 1*2**1 + 1*2**0\n",
    "print(\"El valor de bin es: \", bin)"
   ]
  },
  {
   "cell_type": "markdown",
   "id": "481dc4b8-75e4-4219-b568-fa5d198fe8ea",
   "metadata": {},
   "source": [
    "# Forma Octal\n",
    "\n",
    "### Valor Base: 8\n",
    " - Solamente acepta digitos del 0 al 7\n",
    " - Usamos el prefijo '0o' o '0O'"
   ]
  },
  {
   "cell_type": "code",
   "execution_count": 25,
   "id": "e183f976-4842-478c-9f61-d15d19671fe2",
   "metadata": {},
   "outputs": [
    {
     "name": "stdout",
     "output_type": "stream",
     "text": [
      "El valor de decimal es:  17\n"
     ]
    }
   ],
   "source": [
    "decimal = 17\n",
    "print(\"El valor de decimal es: \", decimal)"
   ]
  },
  {
   "cell_type": "code",
   "execution_count": 27,
   "id": "2bcdacea-4abe-4ca7-b9eb-3e0cd855e164",
   "metadata": {},
   "outputs": [
    {
     "name": "stdout",
     "output_type": "stream",
     "text": [
      "El valor de oct es:  15\n"
     ]
    }
   ],
   "source": [
    "oct = 0o17  # 1*8**1 + 7*8**0\n",
    "print(\"El valor de oct es: \", oct)"
   ]
  },
  {
   "cell_type": "code",
   "execution_count": 29,
   "id": "685c4c72-3ecc-4233-9167-c1a8dee4fde5",
   "metadata": {},
   "outputs": [
    {
     "name": "stdout",
     "output_type": "stream",
     "text": [
      "El valor de decimal es:  153\n"
     ]
    }
   ],
   "source": [
    "decimal = 153\n",
    "print(\"El valor de decimal es: \", decimal)"
   ]
  },
  {
   "cell_type": "code",
   "execution_count": 31,
   "id": "b56cea09-ca97-4064-bcf4-325166eae896",
   "metadata": {},
   "outputs": [
    {
     "name": "stdout",
     "output_type": "stream",
     "text": [
      "El valor de oct es:  107\n"
     ]
    }
   ],
   "source": [
    "oct = 0O153  # 1*8**2 + 5*8**1 + 3*8**0\n",
    "print(\"El valor de oct es: \", oct)"
   ]
  },
  {
   "cell_type": "markdown",
   "id": "4163a4c6-8a3d-4b21-92a7-eefec9d7ee3c",
   "metadata": {},
   "source": [
    "# Forma Hexadecimal\n",
    "\n",
    "### Valor Base: 16\n",
    " - Acepta digitos del 0 al 9\n",
    " - Acepta letras de la 'a/A' a la 'f/F'\n",
    " - Usamos prefijo '0x' o '0X'\n",
    "\n",
    "- 0\n",
    "- 1\n",
    "- 2\n",
    "- 3\n",
    "- 4\n",
    "- 5\n",
    "- 6\n",
    "- 7\n",
    "- 8\n",
    "- 9\n",
    "- A = 10\n",
    "- B = 11\n",
    "- C = 12\n",
    "- D = 13\n",
    "- E = 14\n",
    "- F = 15"
   ]
  },
  {
   "cell_type": "code",
   "execution_count": 36,
   "id": "42c721ce-d98e-491f-bcc8-f7842e9378b8",
   "metadata": {},
   "outputs": [
    {
     "name": "stdout",
     "output_type": "stream",
     "text": [
      "El valor de decimal es:  17\n"
     ]
    }
   ],
   "source": [
    "decimal = 17\n",
    "print(\"El valor de decimal es: \", decimal)"
   ]
  },
  {
   "cell_type": "code",
   "execution_count": 38,
   "id": "003310ae-82d1-4edd-91dd-97d043459feb",
   "metadata": {},
   "outputs": [
    {
     "name": "stdout",
     "output_type": "stream",
     "text": [
      "El valor de hex es:  23\n"
     ]
    }
   ],
   "source": [
    "hex = 0x17  # 1*16**1 + 7*16**0\n",
    "print(\"El valor de hex es: \", hex)"
   ]
  },
  {
   "cell_type": "code",
   "execution_count": 40,
   "id": "b7bcbb0e-ef59-4668-b0d4-a4ee1310f4f4",
   "metadata": {},
   "outputs": [
    {
     "name": "stdout",
     "output_type": "stream",
     "text": [
      "El valor de hex es:  28\n"
     ]
    }
   ],
   "source": [
    "hex = 0x1C  # 1*16**1 + 12*16**0\n",
    "print(\"El valor de hex es: \", hex)"
   ]
  },
  {
   "cell_type": "code",
   "execution_count": null,
   "id": "c82e4713-9b2f-4704-8ad0-442846c97233",
   "metadata": {},
   "outputs": [],
   "source": []
  }
 ],
 "metadata": {
  "kernelspec": {
   "display_name": "Python 3 (ipykernel)",
   "language": "python",
   "name": "python3"
  },
  "language_info": {
   "codemirror_mode": {
    "name": "ipython",
    "version": 3
   },
   "file_extension": ".py",
   "mimetype": "text/x-python",
   "name": "python",
   "nbconvert_exporter": "python",
   "pygments_lexer": "ipython3",
   "version": "3.12.4"
  }
 },
 "nbformat": 4,
 "nbformat_minor": 5
}
